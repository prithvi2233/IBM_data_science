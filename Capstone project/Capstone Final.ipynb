{
 "cells": [
  {
   "cell_type": "markdown",
   "metadata": {},
   "source": [
    "# Capstone Project - The Battle of the Neighborhoods"
   ]
  },
  {
   "cell_type": "markdown",
   "metadata": {},
   "source": [
    "## Table of contents\n",
    "* [Introduction: Business Problem](#introduction)\n",
    "* [Data](#data)\n",
    "* [Methodology](#methodology)\n",
    "* [Analysis](#analysis)\n",
    "* [Results and Discussion](#results)\n",
    "* [Conclusion](#conclusion)"
   ]
  },
  {
   "cell_type": "markdown",
   "metadata": {},
   "source": [
    "## Introduction: Business Problem <a name=\"introduction\"></a>"
   ]
  },
  {
   "attachments": {},
   "cell_type": "markdown",
   "metadata": {},
   "source": [
    "* Bangalore is the capital city of Karnataka. One of the densely populated cities in India, there is huge opportunity for restaurants. But opening a restaurants needs a lot of planning. It is finally the customer who sustain the business. hence analysis of an existing data can bring out many factors, such as what item is popular in a locality, average price for food, etc. \n",
    "* Following are few considerations to be taken into account while opening a restaurant!\n",
    "    * Ideal location - based on density of population and type. \n",
    "    * Type of restaurant – North Indian, south Indian, Chinese, Café, bakery, etc \n",
    "    * Target customers - richness, if they are ready to pay more \n",
    "    * Competition - existing business and their performance parameters \n",
    "    * Operating hours - what time or day of the week the people visit restaurants most often? \n",
    "    * Size of restaurant - It should be small restaurant of few tables or large one? \n",
    "    * Uniqueness - what makes the difference from other restaurants?\n",
    "* Apart from these there are several things like finance, policies, legal aspects.\n",
    "\n",
    "#### So the Business Problem is to identify the following\n",
    "   * Which is the ideal location in Bangalore for a south Indian restaurant?\n",
    "   * What is the menu should be included? What price should be fixed for items?\n",
    "   * Who are the biggest competitors? \n",
    "   * What should be the seating capacity? How big should be restaurant?\n"
   ]
  },
  {
   "cell_type": "markdown",
   "metadata": {},
   "source": [
    "## Data <a name=\"data\"></a>"
   ]
  },
  {
   "attachments": {},
   "cell_type": "markdown",
   "metadata": {},
   "source": [
    "In this analysis I will use the data provided by Zomato published on the Kaggle website. Following information can be obtained from the CSV file\n",
    "   * Name, address, url, phone \n",
    "   * Location, Type [ 2 sets found]\n",
    "   * Rating, Votes\n",
    "   * Cost for two\n",
    "   * Online table booking and ordering facilities\n",
    "   * Cuisines, dishes liked\n",
    "\n",
    "following is the url for the webpage:\n",
    "https://www.kaggle.com/himanshupoddar/zomato-bangalore-restaurants\n",
    "\n",
    "\n",
    "* Several fields in the data are incomplete. We will analyse with the best of data available. Further the dataset may not cover all the restaurants in Bangalore, few many not have registered on Zomato.\n",
    "* Data Wrangling: Rename few columns, delete the non-important columns, Format the data. \n",
    "* There is no coordinate data available in CSV. However we will fetch it using geopy\n",
    "* We will import the folium leaflet maps to create informative visualisations in the maps\n"
   ]
  },
  {
   "cell_type": "markdown",
   "metadata": {},
   "source": [
    "### Data Collection and Understanding "
   ]
  },
  {
   "cell_type": "code",
   "execution_count": 3,
   "metadata": {},
   "outputs": [],
   "source": [
    "import pandas as pd #  Library for data analysis and manipulation\n",
    "import numpy as np    # array handling library"
   ]
  },
  {
   "cell_type": "code",
   "execution_count": 4,
   "metadata": {},
   "outputs": [
    {
     "name": "stdout",
     "output_type": "stream",
     "text": [
      "The following Zomato dataset contains 51717 rows and 17 columns \n"
     ]
    },
    {
     "data": {
      "text/html": [
       "<div>\n",
       "<style scoped>\n",
       "    .dataframe tbody tr th:only-of-type {\n",
       "        vertical-align: middle;\n",
       "    }\n",
       "\n",
       "    .dataframe tbody tr th {\n",
       "        vertical-align: top;\n",
       "    }\n",
       "\n",
       "    .dataframe thead th {\n",
       "        text-align: right;\n",
       "    }\n",
       "</style>\n",
       "<table border=\"1\" class=\"dataframe\">\n",
       "  <thead>\n",
       "    <tr style=\"text-align: right;\">\n",
       "      <th></th>\n",
       "      <th>url</th>\n",
       "      <th>address</th>\n",
       "      <th>name</th>\n",
       "      <th>online_order</th>\n",
       "      <th>book_table</th>\n",
       "      <th>rate</th>\n",
       "      <th>votes</th>\n",
       "      <th>phone</th>\n",
       "      <th>location</th>\n",
       "      <th>rest_type</th>\n",
       "      <th>dish_liked</th>\n",
       "      <th>cuisines</th>\n",
       "      <th>approx_cost(for two people)</th>\n",
       "      <th>reviews_list</th>\n",
       "      <th>menu_item</th>\n",
       "      <th>listed_in(type)</th>\n",
       "      <th>listed_in(city)</th>\n",
       "    </tr>\n",
       "  </thead>\n",
       "  <tbody>\n",
       "    <tr>\n",
       "      <th>0</th>\n",
       "      <td>https://www.zomato.com/bangalore/jalsa-banasha...</td>\n",
       "      <td>942, 21st Main Road, 2nd Stage, Banashankari, ...</td>\n",
       "      <td>Jalsa</td>\n",
       "      <td>Yes</td>\n",
       "      <td>Yes</td>\n",
       "      <td>4.1/5</td>\n",
       "      <td>775</td>\n",
       "      <td>080 42297555\\r\\n+91 9743772233</td>\n",
       "      <td>Banashankari</td>\n",
       "      <td>Casual Dining</td>\n",
       "      <td>Pasta, Lunch Buffet, Masala Papad, Paneer Laja...</td>\n",
       "      <td>North Indian, Mughlai, Chinese</td>\n",
       "      <td>800</td>\n",
       "      <td>[('Rated 4.0', 'RATED\\n  A beautiful place to ...</td>\n",
       "      <td>[]</td>\n",
       "      <td>Buffet</td>\n",
       "      <td>Banashankari</td>\n",
       "    </tr>\n",
       "    <tr>\n",
       "      <th>1</th>\n",
       "      <td>https://www.zomato.com/bangalore/spice-elephan...</td>\n",
       "      <td>2nd Floor, 80 Feet Road, Near Big Bazaar, 6th ...</td>\n",
       "      <td>Spice Elephant</td>\n",
       "      <td>Yes</td>\n",
       "      <td>No</td>\n",
       "      <td>4.1/5</td>\n",
       "      <td>787</td>\n",
       "      <td>080 41714161</td>\n",
       "      <td>Banashankari</td>\n",
       "      <td>Casual Dining</td>\n",
       "      <td>Momos, Lunch Buffet, Chocolate Nirvana, Thai G...</td>\n",
       "      <td>Chinese, North Indian, Thai</td>\n",
       "      <td>800</td>\n",
       "      <td>[('Rated 4.0', 'RATED\\n  Had been here for din...</td>\n",
       "      <td>[]</td>\n",
       "      <td>Buffet</td>\n",
       "      <td>Banashankari</td>\n",
       "    </tr>\n",
       "    <tr>\n",
       "      <th>2</th>\n",
       "      <td>https://www.zomato.com/SanchurroBangalore?cont...</td>\n",
       "      <td>1112, Next to KIMS Medical College, 17th Cross...</td>\n",
       "      <td>San Churro Cafe</td>\n",
       "      <td>Yes</td>\n",
       "      <td>No</td>\n",
       "      <td>3.8/5</td>\n",
       "      <td>918</td>\n",
       "      <td>+91 9663487993</td>\n",
       "      <td>Banashankari</td>\n",
       "      <td>Cafe, Casual Dining</td>\n",
       "      <td>Churros, Cannelloni, Minestrone Soup, Hot Choc...</td>\n",
       "      <td>Cafe, Mexican, Italian</td>\n",
       "      <td>800</td>\n",
       "      <td>[('Rated 3.0', \"RATED\\n  Ambience is not that ...</td>\n",
       "      <td>[]</td>\n",
       "      <td>Buffet</td>\n",
       "      <td>Banashankari</td>\n",
       "    </tr>\n",
       "    <tr>\n",
       "      <th>3</th>\n",
       "      <td>https://www.zomato.com/bangalore/addhuri-udupi...</td>\n",
       "      <td>1st Floor, Annakuteera, 3rd Stage, Banashankar...</td>\n",
       "      <td>Addhuri Udupi Bhojana</td>\n",
       "      <td>No</td>\n",
       "      <td>No</td>\n",
       "      <td>3.7/5</td>\n",
       "      <td>88</td>\n",
       "      <td>+91 9620009302</td>\n",
       "      <td>Banashankari</td>\n",
       "      <td>Quick Bites</td>\n",
       "      <td>Masala Dosa</td>\n",
       "      <td>South Indian, North Indian</td>\n",
       "      <td>300</td>\n",
       "      <td>[('Rated 4.0', \"RATED\\n  Great food and proper...</td>\n",
       "      <td>[]</td>\n",
       "      <td>Buffet</td>\n",
       "      <td>Banashankari</td>\n",
       "    </tr>\n",
       "    <tr>\n",
       "      <th>4</th>\n",
       "      <td>https://www.zomato.com/bangalore/grand-village...</td>\n",
       "      <td>10, 3rd Floor, Lakshmi Associates, Gandhi Baza...</td>\n",
       "      <td>Grand Village</td>\n",
       "      <td>No</td>\n",
       "      <td>No</td>\n",
       "      <td>3.8/5</td>\n",
       "      <td>166</td>\n",
       "      <td>+91 8026612447\\r\\n+91 9901210005</td>\n",
       "      <td>Basavanagudi</td>\n",
       "      <td>Casual Dining</td>\n",
       "      <td>Panipuri, Gol Gappe</td>\n",
       "      <td>North Indian, Rajasthani</td>\n",
       "      <td>600</td>\n",
       "      <td>[('Rated 4.0', 'RATED\\n  Very good restaurant ...</td>\n",
       "      <td>[]</td>\n",
       "      <td>Buffet</td>\n",
       "      <td>Banashankari</td>\n",
       "    </tr>\n",
       "  </tbody>\n",
       "</table>\n",
       "</div>"
      ],
      "text/plain": [
       "                                                 url  \\\n",
       "0  https://www.zomato.com/bangalore/jalsa-banasha...   \n",
       "1  https://www.zomato.com/bangalore/spice-elephan...   \n",
       "2  https://www.zomato.com/SanchurroBangalore?cont...   \n",
       "3  https://www.zomato.com/bangalore/addhuri-udupi...   \n",
       "4  https://www.zomato.com/bangalore/grand-village...   \n",
       "\n",
       "                                             address                   name  \\\n",
       "0  942, 21st Main Road, 2nd Stage, Banashankari, ...                  Jalsa   \n",
       "1  2nd Floor, 80 Feet Road, Near Big Bazaar, 6th ...         Spice Elephant   \n",
       "2  1112, Next to KIMS Medical College, 17th Cross...        San Churro Cafe   \n",
       "3  1st Floor, Annakuteera, 3rd Stage, Banashankar...  Addhuri Udupi Bhojana   \n",
       "4  10, 3rd Floor, Lakshmi Associates, Gandhi Baza...          Grand Village   \n",
       "\n",
       "  online_order book_table   rate  votes                             phone  \\\n",
       "0          Yes        Yes  4.1/5    775    080 42297555\\r\\n+91 9743772233   \n",
       "1          Yes         No  4.1/5    787                      080 41714161   \n",
       "2          Yes         No  3.8/5    918                    +91 9663487993   \n",
       "3           No         No  3.7/5     88                    +91 9620009302   \n",
       "4           No         No  3.8/5    166  +91 8026612447\\r\\n+91 9901210005   \n",
       "\n",
       "       location            rest_type  \\\n",
       "0  Banashankari        Casual Dining   \n",
       "1  Banashankari        Casual Dining   \n",
       "2  Banashankari  Cafe, Casual Dining   \n",
       "3  Banashankari          Quick Bites   \n",
       "4  Basavanagudi        Casual Dining   \n",
       "\n",
       "                                          dish_liked  \\\n",
       "0  Pasta, Lunch Buffet, Masala Papad, Paneer Laja...   \n",
       "1  Momos, Lunch Buffet, Chocolate Nirvana, Thai G...   \n",
       "2  Churros, Cannelloni, Minestrone Soup, Hot Choc...   \n",
       "3                                        Masala Dosa   \n",
       "4                                Panipuri, Gol Gappe   \n",
       "\n",
       "                         cuisines approx_cost(for two people)  \\\n",
       "0  North Indian, Mughlai, Chinese                         800   \n",
       "1     Chinese, North Indian, Thai                         800   \n",
       "2          Cafe, Mexican, Italian                         800   \n",
       "3      South Indian, North Indian                         300   \n",
       "4        North Indian, Rajasthani                         600   \n",
       "\n",
       "                                        reviews_list menu_item  \\\n",
       "0  [('Rated 4.0', 'RATED\\n  A beautiful place to ...        []   \n",
       "1  [('Rated 4.0', 'RATED\\n  Had been here for din...        []   \n",
       "2  [('Rated 3.0', \"RATED\\n  Ambience is not that ...        []   \n",
       "3  [('Rated 4.0', \"RATED\\n  Great food and proper...        []   \n",
       "4  [('Rated 4.0', 'RATED\\n  Very good restaurant ...        []   \n",
       "\n",
       "  listed_in(type) listed_in(city)  \n",
       "0          Buffet    Banashankari  \n",
       "1          Buffet    Banashankari  \n",
       "2          Buffet    Banashankari  \n",
       "3          Buffet    Banashankari  \n",
       "4          Buffet    Banashankari  "
      ]
     },
     "execution_count": 4,
     "metadata": {},
     "output_type": "execute_result"
    }
   ],
   "source": [
    "df=pd.read_csv(r'C:\\Users\\prutha\\Downloads\\coursera\\Ibm data science\\Course9 Capstone\\Week5\\zomato.csv')\n",
    "print(\"The following Zomato dataset contains {} rows and {} columns \".format(df.shape[0], df.shape[1]))\n",
    "df.head()"
   ]
  },
  {
   "cell_type": "markdown",
   "metadata": {},
   "source": [
    "Let us check the dataset columns, the unique values and null values"
   ]
  },
  {
   "cell_type": "code",
   "execution_count": 5,
   "metadata": {},
   "outputs": [
    {
     "data": {
      "text/html": [
       "<div>\n",
       "<style scoped>\n",
       "    .dataframe tbody tr th:only-of-type {\n",
       "        vertical-align: middle;\n",
       "    }\n",
       "\n",
       "    .dataframe tbody tr th {\n",
       "        vertical-align: top;\n",
       "    }\n",
       "\n",
       "    .dataframe thead th {\n",
       "        text-align: right;\n",
       "    }\n",
       "</style>\n",
       "<table border=\"1\" class=\"dataframe\">\n",
       "  <thead>\n",
       "    <tr style=\"text-align: right;\">\n",
       "      <th></th>\n",
       "      <th>SN</th>\n",
       "      <th>type</th>\n",
       "      <th>total</th>\n",
       "      <th>unique</th>\n",
       "      <th>null</th>\n",
       "      <th>null%</th>\n",
       "    </tr>\n",
       "  </thead>\n",
       "  <tbody>\n",
       "    <tr>\n",
       "      <th>url</th>\n",
       "      <td>0</td>\n",
       "      <td>object</td>\n",
       "      <td>51717</td>\n",
       "      <td>51717</td>\n",
       "      <td>0</td>\n",
       "      <td>0.000000</td>\n",
       "    </tr>\n",
       "    <tr>\n",
       "      <th>address</th>\n",
       "      <td>1</td>\n",
       "      <td>object</td>\n",
       "      <td>51717</td>\n",
       "      <td>11495</td>\n",
       "      <td>0</td>\n",
       "      <td>0.000000</td>\n",
       "    </tr>\n",
       "    <tr>\n",
       "      <th>name</th>\n",
       "      <td>2</td>\n",
       "      <td>object</td>\n",
       "      <td>51717</td>\n",
       "      <td>8792</td>\n",
       "      <td>0</td>\n",
       "      <td>0.000000</td>\n",
       "    </tr>\n",
       "    <tr>\n",
       "      <th>online_order</th>\n",
       "      <td>3</td>\n",
       "      <td>object</td>\n",
       "      <td>51717</td>\n",
       "      <td>2</td>\n",
       "      <td>0</td>\n",
       "      <td>0.000000</td>\n",
       "    </tr>\n",
       "    <tr>\n",
       "      <th>book_table</th>\n",
       "      <td>4</td>\n",
       "      <td>object</td>\n",
       "      <td>51717</td>\n",
       "      <td>2</td>\n",
       "      <td>0</td>\n",
       "      <td>0.000000</td>\n",
       "    </tr>\n",
       "    <tr>\n",
       "      <th>rate</th>\n",
       "      <td>5</td>\n",
       "      <td>object</td>\n",
       "      <td>43942</td>\n",
       "      <td>64</td>\n",
       "      <td>7775</td>\n",
       "      <td>15.033741</td>\n",
       "    </tr>\n",
       "    <tr>\n",
       "      <th>votes</th>\n",
       "      <td>6</td>\n",
       "      <td>int64</td>\n",
       "      <td>51717</td>\n",
       "      <td>2328</td>\n",
       "      <td>0</td>\n",
       "      <td>0.000000</td>\n",
       "    </tr>\n",
       "    <tr>\n",
       "      <th>phone</th>\n",
       "      <td>7</td>\n",
       "      <td>object</td>\n",
       "      <td>50509</td>\n",
       "      <td>14926</td>\n",
       "      <td>1208</td>\n",
       "      <td>2.335789</td>\n",
       "    </tr>\n",
       "    <tr>\n",
       "      <th>location</th>\n",
       "      <td>8</td>\n",
       "      <td>object</td>\n",
       "      <td>51696</td>\n",
       "      <td>93</td>\n",
       "      <td>21</td>\n",
       "      <td>0.040606</td>\n",
       "    </tr>\n",
       "    <tr>\n",
       "      <th>rest_type</th>\n",
       "      <td>9</td>\n",
       "      <td>object</td>\n",
       "      <td>51490</td>\n",
       "      <td>93</td>\n",
       "      <td>227</td>\n",
       "      <td>0.438927</td>\n",
       "    </tr>\n",
       "    <tr>\n",
       "      <th>dish_liked</th>\n",
       "      <td>10</td>\n",
       "      <td>object</td>\n",
       "      <td>23639</td>\n",
       "      <td>5271</td>\n",
       "      <td>28078</td>\n",
       "      <td>54.291626</td>\n",
       "    </tr>\n",
       "    <tr>\n",
       "      <th>cuisines</th>\n",
       "      <td>11</td>\n",
       "      <td>object</td>\n",
       "      <td>51672</td>\n",
       "      <td>2723</td>\n",
       "      <td>45</td>\n",
       "      <td>0.087012</td>\n",
       "    </tr>\n",
       "    <tr>\n",
       "      <th>approx_cost(for two people)</th>\n",
       "      <td>12</td>\n",
       "      <td>object</td>\n",
       "      <td>51371</td>\n",
       "      <td>70</td>\n",
       "      <td>346</td>\n",
       "      <td>0.669026</td>\n",
       "    </tr>\n",
       "    <tr>\n",
       "      <th>reviews_list</th>\n",
       "      <td>13</td>\n",
       "      <td>object</td>\n",
       "      <td>51717</td>\n",
       "      <td>22513</td>\n",
       "      <td>0</td>\n",
       "      <td>0.000000</td>\n",
       "    </tr>\n",
       "    <tr>\n",
       "      <th>menu_item</th>\n",
       "      <td>14</td>\n",
       "      <td>object</td>\n",
       "      <td>51717</td>\n",
       "      <td>9098</td>\n",
       "      <td>0</td>\n",
       "      <td>0.000000</td>\n",
       "    </tr>\n",
       "    <tr>\n",
       "      <th>listed_in(type)</th>\n",
       "      <td>15</td>\n",
       "      <td>object</td>\n",
       "      <td>51717</td>\n",
       "      <td>7</td>\n",
       "      <td>0</td>\n",
       "      <td>0.000000</td>\n",
       "    </tr>\n",
       "    <tr>\n",
       "      <th>listed_in(city)</th>\n",
       "      <td>16</td>\n",
       "      <td>object</td>\n",
       "      <td>51717</td>\n",
       "      <td>30</td>\n",
       "      <td>0</td>\n",
       "      <td>0.000000</td>\n",
       "    </tr>\n",
       "  </tbody>\n",
       "</table>\n",
       "</div>"
      ],
      "text/plain": [
       "                             SN    type  total  unique   null      null%\n",
       "url                           0  object  51717   51717      0   0.000000\n",
       "address                       1  object  51717   11495      0   0.000000\n",
       "name                          2  object  51717    8792      0   0.000000\n",
       "online_order                  3  object  51717       2      0   0.000000\n",
       "book_table                    4  object  51717       2      0   0.000000\n",
       "rate                          5  object  43942      64   7775  15.033741\n",
       "votes                         6   int64  51717    2328      0   0.000000\n",
       "phone                         7  object  50509   14926   1208   2.335789\n",
       "location                      8  object  51696      93     21   0.040606\n",
       "rest_type                     9  object  51490      93    227   0.438927\n",
       "dish_liked                   10  object  23639    5271  28078  54.291626\n",
       "cuisines                     11  object  51672    2723     45   0.087012\n",
       "approx_cost(for two people)  12  object  51371      70    346   0.669026\n",
       "reviews_list                 13  object  51717   22513      0   0.000000\n",
       "menu_item                    14  object  51717    9098      0   0.000000\n",
       "listed_in(type)              15  object  51717       7      0   0.000000\n",
       "listed_in(city)              16  object  51717      30      0   0.000000"
      ]
     },
     "execution_count": 5,
     "metadata": {},
     "output_type": "execute_result"
    }
   ],
   "source": [
    "df_info=pd.concat([df.dtypes,   # data types\n",
    "                   df.count(),   # Total value count\n",
    "                   df.nunique(),  # unique values count\n",
    "                   df.isnull().sum(),  #null value count\n",
    "                   ((df.isnull().sum()/df.index.size)*100)   #percent null count\n",
    "               ], axis=1)\n",
    "df_info.columns=['type', 'total', 'unique', 'null', 'null%']   # info lables\n",
    "df_info.insert(value=np.arange(len(df_info)), column='SN', loc=0)   # df table column numbers\n",
    "df_info"
   ]
  },
  {
   "cell_type": "code",
   "execution_count": 6,
   "metadata": {},
   "outputs": [],
   "source": [
    "# interactive outputs\n",
    "# from IPython.core.interactiveshell import InteractiveShell\n",
    "# InteractiveShell.ast_node_interactivity = \"all\""
   ]
  },
  {
   "cell_type": "code",
   "execution_count": 7,
   "metadata": {},
   "outputs": [
    {
     "data": {
      "text/plain": [
       "array(['800', '300', '600', '700', '550', '500', '450', '650', '400',\n",
       "       '900', '200', '750', '150', '850', '100', '1,200', '350', '250',\n",
       "       '950', '1,000', '1,500', '1,300', '199', '80', '1,100', '160',\n",
       "       '1,600', '230', '130', '50', '190', '1,700', nan, '1,400', '180',\n",
       "       '1,350', '2,200', '2,000', '1,800', '1,900', '330', '2,500',\n",
       "       '2,100', '3,000', '2,800', '3,400', '40', '1,250', '3,500',\n",
       "       '4,000', '2,400', '2,600', '120', '1,450', '469', '70', '3,200',\n",
       "       '60', '560', '240', '360', '6,000', '1,050', '2,300', '4,100',\n",
       "       '5,000', '3,700', '1,650', '2,700', '4,500', '140'], dtype=object)"
      ]
     },
     "execution_count": 7,
     "metadata": {},
     "output_type": "execute_result"
    }
   ],
   "source": [
    "# view the column unique values. [ctrl+ / key to untoggle comment]\n",
    "# df.iloc[:,2].unique()\n",
    "df.iloc[:,3].unique()\n",
    "# df.iloc[:,4].unique()\n",
    "df.iloc[:,5].unique()\n",
    "df.iloc[:,6].unique()\n",
    "# df.iloc[:,8].unique()\n",
    "# df.iloc[:,9].unique()\n",
    "# df.iloc[:,10].unique()\n",
    "# df.iloc[:,11].unique()\n",
    "df.iloc[:,12].unique()\n",
    "# df.iloc[:,15].unique()\n",
    "# df.iloc[:,16].unique()"
   ]
  },
  {
   "cell_type": "markdown",
   "metadata": {},
   "source": [
    "## Methodology <a name=\"methodology\"></a>"
   ]
  },
  {
   "attachments": {},
   "cell_type": "markdown",
   "metadata": {},
   "source": [
    "* Before starting a restaurant one has to understand the existing scenario of the business in the city. For example the restaurants in Toronto will be very different from Bangalore in several aspects. Hence first we use an exploratory  data analysis\n",
    "* Once various aspects are understood, we will make a depth analysis of feasibility of a south Indian restaurant and come up with suitable location, menu and other options. \n"
   ]
  },
  {
   "cell_type": "markdown",
   "metadata": {},
   "source": [
    "## Analysis <a name=\"Analysis\"></a>"
   ]
  },
  {
   "attachments": {},
   "cell_type": "markdown",
   "metadata": {},
   "source": [
    "We use the following libraries\n",
    "* Pandas – data analysis\n",
    "* Matplotlib – data visualisation\n",
    "* Geopy – get the coordinate of locations\n",
    "* Folium – Visualise locations in maps\n"
   ]
  },
  {
   "cell_type": "markdown",
   "metadata": {},
   "source": [
    "### Data Wrangling"
   ]
  },
  {
   "cell_type": "code",
   "execution_count": null,
   "metadata": {},
   "outputs": [],
   "source": []
  },
  {
   "cell_type": "code",
   "execution_count": 8,
   "metadata": {},
   "outputs": [],
   "source": [
    "# adress, phone and review list are not important. Hence dropping these columns\n",
    "df=df.drop(['address','phone'],axis=1)\n",
    "# other 'reviews_list', 'menu_list'"
   ]
  },
  {
   "cell_type": "code",
   "execution_count": 9,
   "metadata": {},
   "outputs": [],
   "source": [
    "# Column renamed. \n",
    "df.rename({'approx_cost(for two people)': 'average_cost'}, axis=1, inplace=True)\n",
    "df.rename({'listed_in(type)': 'listed_type'}, axis=1, inplace=True)\n",
    "df.rename({'listed_in(city)': 'listed_city'}, axis=1, inplace=True)"
   ]
  },
  {
   "cell_type": "code",
   "execution_count": 10,
   "metadata": {},
   "outputs": [],
   "source": [
    "# cost column is formatted with comma values. \n",
    "df['average_cost'] = df['average_cost'].astype(str)\n",
    "df['average_cost'] = df['average_cost'].apply(lambda x: x.replace(',', '.'))\n",
    "df['average_cost'] = df['average_cost'].astype(float)"
   ]
  },
  {
   "cell_type": "code",
   "execution_count": 11,
   "metadata": {},
   "outputs": [],
   "source": [
    "# rate column has charaters / and - and NEW. this need to be cleared \n",
    "df['rate'] = df['rate'].astype(str)\n",
    "df['rate'] = df['rate'].apply(lambda x: x.split('/')[0])\n",
    "\n",
    "df['rate'] = df['rate'].apply(lambda x: x.replace('NEW', str(np.nan)))\n",
    "df['rate'] = df['rate'].apply(lambda x: x.replace('-', str(np.nan)))\n",
    "\n",
    "df['rate'] = df['rate'].astype(float)"
   ]
  },
  {
   "cell_type": "code",
   "execution_count": 12,
   "metadata": {},
   "outputs": [
    {
     "data": {
      "text/plain": [
       "array([4.1, 3.8, 3.7, 3.6, 4.6, 4. , 4.2, 3.9, 3.1, 3. , 3.2, 3.3, 2.8,\n",
       "       4.4, 4.3, nan, 2.9, 3.5, 2.6, 3.4, 4.5, 2.5, 2.7, 4.7, 2.4, 2.2,\n",
       "       2.3, 4.8, 4.9, 2.1, 2. , 1.8])"
      ]
     },
     "execution_count": 12,
     "metadata": {},
     "output_type": "execute_result"
    }
   ],
   "source": [
    "df['average_cost'].unique()\n",
    "df['rate'].unique()"
   ]
  },
  {
   "cell_type": "code",
   "execution_count": 13,
   "metadata": {},
   "outputs": [
    {
     "data": {
      "text/html": [
       "<div>\n",
       "<style scoped>\n",
       "    .dataframe tbody tr th:only-of-type {\n",
       "        vertical-align: middle;\n",
       "    }\n",
       "\n",
       "    .dataframe tbody tr th {\n",
       "        vertical-align: top;\n",
       "    }\n",
       "\n",
       "    .dataframe thead th {\n",
       "        text-align: right;\n",
       "    }\n",
       "</style>\n",
       "<table border=\"1\" class=\"dataframe\">\n",
       "  <thead>\n",
       "    <tr style=\"text-align: right;\">\n",
       "      <th></th>\n",
       "      <th>url</th>\n",
       "      <th>name</th>\n",
       "      <th>online_order</th>\n",
       "      <th>book_table</th>\n",
       "      <th>rate</th>\n",
       "      <th>votes</th>\n",
       "      <th>location</th>\n",
       "      <th>rest_type</th>\n",
       "      <th>dish_liked</th>\n",
       "      <th>cuisines</th>\n",
       "      <th>average_cost</th>\n",
       "      <th>reviews_list</th>\n",
       "      <th>menu_item</th>\n",
       "      <th>listed_type</th>\n",
       "      <th>listed_city</th>\n",
       "    </tr>\n",
       "  </thead>\n",
       "  <tbody>\n",
       "    <tr>\n",
       "      <th>0</th>\n",
       "      <td>https://www.zomato.com/bangalore/jalsa-banasha...</td>\n",
       "      <td>Jalsa</td>\n",
       "      <td>Yes</td>\n",
       "      <td>Yes</td>\n",
       "      <td>4.1</td>\n",
       "      <td>775</td>\n",
       "      <td>Banashankari</td>\n",
       "      <td>Casual Dining</td>\n",
       "      <td>Pasta, Lunch Buffet, Masala Papad, Paneer Laja...</td>\n",
       "      <td>North Indian, Mughlai, Chinese</td>\n",
       "      <td>800.0</td>\n",
       "      <td>[('Rated 4.0', 'RATED\\n  A beautiful place to ...</td>\n",
       "      <td>[]</td>\n",
       "      <td>Buffet</td>\n",
       "      <td>Banashankari</td>\n",
       "    </tr>\n",
       "    <tr>\n",
       "      <th>1</th>\n",
       "      <td>https://www.zomato.com/bangalore/spice-elephan...</td>\n",
       "      <td>Spice Elephant</td>\n",
       "      <td>Yes</td>\n",
       "      <td>No</td>\n",
       "      <td>4.1</td>\n",
       "      <td>787</td>\n",
       "      <td>Banashankari</td>\n",
       "      <td>Casual Dining</td>\n",
       "      <td>Momos, Lunch Buffet, Chocolate Nirvana, Thai G...</td>\n",
       "      <td>Chinese, North Indian, Thai</td>\n",
       "      <td>800.0</td>\n",
       "      <td>[('Rated 4.0', 'RATED\\n  Had been here for din...</td>\n",
       "      <td>[]</td>\n",
       "      <td>Buffet</td>\n",
       "      <td>Banashankari</td>\n",
       "    </tr>\n",
       "    <tr>\n",
       "      <th>2</th>\n",
       "      <td>https://www.zomato.com/SanchurroBangalore?cont...</td>\n",
       "      <td>San Churro Cafe</td>\n",
       "      <td>Yes</td>\n",
       "      <td>No</td>\n",
       "      <td>3.8</td>\n",
       "      <td>918</td>\n",
       "      <td>Banashankari</td>\n",
       "      <td>Cafe, Casual Dining</td>\n",
       "      <td>Churros, Cannelloni, Minestrone Soup, Hot Choc...</td>\n",
       "      <td>Cafe, Mexican, Italian</td>\n",
       "      <td>800.0</td>\n",
       "      <td>[('Rated 3.0', \"RATED\\n  Ambience is not that ...</td>\n",
       "      <td>[]</td>\n",
       "      <td>Buffet</td>\n",
       "      <td>Banashankari</td>\n",
       "    </tr>\n",
       "    <tr>\n",
       "      <th>3</th>\n",
       "      <td>https://www.zomato.com/bangalore/addhuri-udupi...</td>\n",
       "      <td>Addhuri Udupi Bhojana</td>\n",
       "      <td>No</td>\n",
       "      <td>No</td>\n",
       "      <td>3.7</td>\n",
       "      <td>88</td>\n",
       "      <td>Banashankari</td>\n",
       "      <td>Quick Bites</td>\n",
       "      <td>Masala Dosa</td>\n",
       "      <td>South Indian, North Indian</td>\n",
       "      <td>300.0</td>\n",
       "      <td>[('Rated 4.0', \"RATED\\n  Great food and proper...</td>\n",
       "      <td>[]</td>\n",
       "      <td>Buffet</td>\n",
       "      <td>Banashankari</td>\n",
       "    </tr>\n",
       "    <tr>\n",
       "      <th>4</th>\n",
       "      <td>https://www.zomato.com/bangalore/grand-village...</td>\n",
       "      <td>Grand Village</td>\n",
       "      <td>No</td>\n",
       "      <td>No</td>\n",
       "      <td>3.8</td>\n",
       "      <td>166</td>\n",
       "      <td>Basavanagudi</td>\n",
       "      <td>Casual Dining</td>\n",
       "      <td>Panipuri, Gol Gappe</td>\n",
       "      <td>North Indian, Rajasthani</td>\n",
       "      <td>600.0</td>\n",
       "      <td>[('Rated 4.0', 'RATED\\n  Very good restaurant ...</td>\n",
       "      <td>[]</td>\n",
       "      <td>Buffet</td>\n",
       "      <td>Banashankari</td>\n",
       "    </tr>\n",
       "  </tbody>\n",
       "</table>\n",
       "</div>"
      ],
      "text/plain": [
       "                                                 url                   name  \\\n",
       "0  https://www.zomato.com/bangalore/jalsa-banasha...                  Jalsa   \n",
       "1  https://www.zomato.com/bangalore/spice-elephan...         Spice Elephant   \n",
       "2  https://www.zomato.com/SanchurroBangalore?cont...        San Churro Cafe   \n",
       "3  https://www.zomato.com/bangalore/addhuri-udupi...  Addhuri Udupi Bhojana   \n",
       "4  https://www.zomato.com/bangalore/grand-village...          Grand Village   \n",
       "\n",
       "  online_order book_table  rate  votes      location            rest_type  \\\n",
       "0          Yes        Yes   4.1    775  Banashankari        Casual Dining   \n",
       "1          Yes         No   4.1    787  Banashankari        Casual Dining   \n",
       "2          Yes         No   3.8    918  Banashankari  Cafe, Casual Dining   \n",
       "3           No         No   3.7     88  Banashankari          Quick Bites   \n",
       "4           No         No   3.8    166  Basavanagudi        Casual Dining   \n",
       "\n",
       "                                          dish_liked  \\\n",
       "0  Pasta, Lunch Buffet, Masala Papad, Paneer Laja...   \n",
       "1  Momos, Lunch Buffet, Chocolate Nirvana, Thai G...   \n",
       "2  Churros, Cannelloni, Minestrone Soup, Hot Choc...   \n",
       "3                                        Masala Dosa   \n",
       "4                                Panipuri, Gol Gappe   \n",
       "\n",
       "                         cuisines  average_cost  \\\n",
       "0  North Indian, Mughlai, Chinese         800.0   \n",
       "1     Chinese, North Indian, Thai         800.0   \n",
       "2          Cafe, Mexican, Italian         800.0   \n",
       "3      South Indian, North Indian         300.0   \n",
       "4        North Indian, Rajasthani         600.0   \n",
       "\n",
       "                                        reviews_list menu_item listed_type  \\\n",
       "0  [('Rated 4.0', 'RATED\\n  A beautiful place to ...        []      Buffet   \n",
       "1  [('Rated 4.0', 'RATED\\n  Had been here for din...        []      Buffet   \n",
       "2  [('Rated 3.0', \"RATED\\n  Ambience is not that ...        []      Buffet   \n",
       "3  [('Rated 4.0', \"RATED\\n  Great food and proper...        []      Buffet   \n",
       "4  [('Rated 4.0', 'RATED\\n  Very good restaurant ...        []      Buffet   \n",
       "\n",
       "    listed_city  \n",
       "0  Banashankari  \n",
       "1  Banashankari  \n",
       "2  Banashankari  \n",
       "3  Banashankari  \n",
       "4  Banashankari  "
      ]
     },
     "execution_count": 13,
     "metadata": {},
     "output_type": "execute_result"
    }
   ],
   "source": [
    "df.head()"
   ]
  },
  {
   "cell_type": "markdown",
   "metadata": {},
   "source": [
    "### Exploratory Data Analysis"
   ]
  },
  {
   "cell_type": "markdown",
   "metadata": {},
   "source": [
    "#### Locality"
   ]
  },
  {
   "cell_type": "code",
   "execution_count": 14,
   "metadata": {
    "scrolled": true
   },
   "outputs": [
    {
     "data": {
      "text/plain": [
       "array(['Banashankari', 'Basavanagudi', 'Mysore Road', 'Jayanagar',\n",
       "       'Kumaraswamy Layout', 'Rajarajeshwari Nagar', 'Vijay Nagar',\n",
       "       'Uttarahalli', 'JP Nagar', 'South Bangalore', 'City Market',\n",
       "       'Nagarbhavi', 'Bannerghatta Road', 'BTM', 'Kanakapura Road',\n",
       "       'Bommanahalli', nan, 'CV Raman Nagar', 'Electronic City', 'HSR',\n",
       "       'Marathahalli', 'Sarjapur Road', 'Wilson Garden', 'Shanti Nagar',\n",
       "       'Koramangala 5th Block', 'Koramangala 8th Block', 'Richmond Road',\n",
       "       'Koramangala 7th Block', 'Jalahalli', 'Koramangala 4th Block',\n",
       "       'Bellandur', 'Whitefield', 'East Bangalore', 'Old Airport Road',\n",
       "       'Indiranagar', 'Koramangala 1st Block', 'Frazer Town', 'RT Nagar',\n",
       "       'MG Road', 'Brigade Road', 'Lavelle Road', 'Church Street',\n",
       "       'Ulsoor', 'Residency Road', 'Shivajinagar', 'Infantry Road',\n",
       "       'St. Marks Road', 'Cunningham Road', 'Race Course Road',\n",
       "       'Commercial Street', 'Vasanth Nagar', 'HBR Layout', 'Domlur',\n",
       "       'Ejipura', 'Jeevan Bhima Nagar', 'Old Madras Road', 'Malleshwaram',\n",
       "       'Seshadripuram', 'Kammanahalli', 'Koramangala 6th Block',\n",
       "       'Majestic', 'Langford Town', 'Central Bangalore', 'Sanjay Nagar',\n",
       "       'Brookefield', 'ITPL Main Road, Whitefield',\n",
       "       'Varthur Main Road, Whitefield', 'KR Puram',\n",
       "       'Koramangala 2nd Block', 'Koramangala 3rd Block', 'Koramangala',\n",
       "       'Hosur Road', 'Rajajinagar', 'Banaswadi', 'North Bangalore',\n",
       "       'Nagawara', 'Hennur', 'Kalyan Nagar', 'New BEL Road', 'Jakkur',\n",
       "       'Rammurthy Nagar', 'Thippasandra', 'Kaggadasapura', 'Hebbal',\n",
       "       'Kengeri', 'Sankey Road', 'Sadashiv Nagar', 'Basaveshwara Nagar',\n",
       "       'Yeshwantpur', 'West Bangalore', 'Magadi Road', 'Yelahanka',\n",
       "       'Sahakara Nagar', 'Peenya'], dtype=object)"
      ]
     },
     "execution_count": 14,
     "metadata": {},
     "output_type": "execute_result"
    }
   ],
   "source": [
    "# There are two columns for location. Check the content of them\n",
    "df['location'].unique() "
   ]
  },
  {
   "cell_type": "code",
   "execution_count": 15,
   "metadata": {},
   "outputs": [
    {
     "data": {
      "text/plain": [
       "array(['Banashankari', 'Bannerghatta Road', 'Basavanagudi', 'Bellandur',\n",
       "       'Brigade Road', 'Brookefield', 'BTM', 'Church Street',\n",
       "       'Electronic City', 'Frazer Town', 'HSR', 'Indiranagar',\n",
       "       'Jayanagar', 'JP Nagar', 'Kalyan Nagar', 'Kammanahalli',\n",
       "       'Koramangala 4th Block', 'Koramangala 5th Block',\n",
       "       'Koramangala 6th Block', 'Koramangala 7th Block', 'Lavelle Road',\n",
       "       'Malleshwaram', 'Marathahalli', 'MG Road', 'New BEL Road',\n",
       "       'Old Airport Road', 'Rajajinagar', 'Residency Road',\n",
       "       'Sarjapur Road', 'Whitefield'], dtype=object)"
      ]
     },
     "execution_count": 15,
     "metadata": {},
     "output_type": "execute_result"
    }
   ],
   "source": [
    "df['listed_city'].unique()"
   ]
  },
  {
   "cell_type": "code",
   "execution_count": 16,
   "metadata": {},
   "outputs": [],
   "source": [
    "import matplotlib.pyplot as plt      # Library to create plots\n",
    "%matplotlib inline"
   ]
  },
  {
   "cell_type": "code",
   "execution_count": 17,
   "metadata": {},
   "outputs": [
    {
     "data": {
      "text/plain": [
       "BTM                      5124\n",
       "HSR                      2523\n",
       "Koramangala 5th Block    2504\n",
       "JP Nagar                 2235\n",
       "Whitefield               2144\n",
       "Indiranagar              2083\n",
       "Jayanagar                1926\n",
       "Marathahalli             1846\n",
       "Bannerghatta Road        1630\n",
       "Bellandur                1286\n",
       "Electronic City          1258\n",
       "Koramangala 1st Block    1238\n",
       "Brigade Road             1218\n",
       "Koramangala 7th Block    1181\n",
       "Koramangala 6th Block    1156\n",
       "Sarjapur Road            1065\n",
       "Ulsoor                   1023\n",
       "Koramangala 4th Block    1017\n",
       "MG Road                   918\n",
       "Banashankari              906\n",
       "Name: location, dtype: int64"
      ]
     },
     "execution_count": 17,
     "metadata": {},
     "output_type": "execute_result"
    }
   ],
   "source": [
    "# There are many missing values. Checking the top 50 localities\n",
    "location1=df['location'].value_counts()[:20]\n",
    "location1"
   ]
  },
  {
   "cell_type": "code",
   "execution_count": 18,
   "metadata": {
    "scrolled": true
   },
   "outputs": [
    {
     "data": {
      "image/png": "[encoded data removed]",
      "text/plain": [
       "<Figure size 1080x720 with 1 Axes>"
      ]
     },
     "metadata": {
      "needs_background": "light"
     },
     "output_type": "display_data"
    },
    {
     "data": {
      "text/plain": [
       "<Figure size 432x288 with 0 Axes>"
      ]
     },
     "metadata": {},
     "output_type": "display_data"
    }
   ],
   "source": [
    "location1.plot(kind='barh', figsize=(15, 10), title='Number of restaurants in Bangalore by locations [top 20]', ); plt.show()\n",
    "plt.savefig('by_loc_bar.png')"
   ]
  },
  {
   "cell_type": "markdown",
   "metadata": {},
   "source": [
    "The top 20 locations for the restaurants is listed as in the bar chart. BTM layout, HSR layout and Koramangala has the maximum number of restaurants in Bangalore"
   ]
  },
  {
   "cell_type": "code",
   "execution_count": 19,
   "metadata": {},
   "outputs": [
    {
     "data": {
      "text/plain": [
       "BTM                      3279\n",
       "Koramangala 7th Block    2938\n",
       "Koramangala 5th Block    2836\n",
       "Koramangala 4th Block    2779\n",
       "Koramangala 6th Block    2623\n",
       "Jayanagar                2371\n",
       "JP Nagar                 2096\n",
       "Indiranagar              1860\n",
       "Church Street            1827\n",
       "MG Road                  1811\n",
       "Brigade Road             1769\n",
       "Lavelle Road             1744\n",
       "HSR                      1741\n",
       "Marathahalli             1659\n",
       "Whitefield               1620\n",
       "Residency Road           1620\n",
       "Bannerghatta Road        1617\n",
       "Brookefield              1518\n",
       "Old Airport Road         1425\n",
       "Kammanahalli             1329\n",
       "Kalyan Nagar             1309\n",
       "Basavanagudi             1266\n",
       "Sarjapur Road            1261\n",
       "Electronic City          1229\n",
       "Bellandur                1227\n",
       "Frazer Town              1185\n",
       "Malleshwaram             1096\n",
       "Rajajinagar              1079\n",
       "Banashankari              863\n",
       "New BEL Road              740\n",
       "Name: listed_city, dtype: int64"
      ]
     },
     "execution_count": 19,
     "metadata": {},
     "output_type": "execute_result"
    }
   ],
   "source": [
    "location2=df['listed_city'].value_counts()\n",
    "location2"
   ]
  },
  {
   "cell_type": "code",
   "execution_count": 20,
   "metadata": {},
   "outputs": [],
   "source": [
    "from geopy.geocoders import Nominatim   # geodecoder by location name"
   ]
  },
  {
   "cell_type": "code",
   "execution_count": 21,
   "metadata": {},
   "outputs": [],
   "source": [
    "locations=pd.DataFrame({\"Name\":df['location'].unique()})\n",
    "locations['Name']=locations['Name'].apply(lambda x: \"Bangalore \" + str(x))\n",
    "geolocator=Nominatim(user_agent=\"user\")\n",
    "\n",
    "lat_lon=[]\n",
    "for location in locations['Name']:\n",
    "    location = geolocator.geocode(location, timeout= 10)\n",
    "    if location is None:\n",
    "        lat_lon.append(np.nan)\n",
    "    else:    \n",
    "        geo=(location.latitude,location.longitude)\n",
    "        lat_lon.append(geo)\n",
    "\n",
    "locations['geo_pos']=lat_lon"
   ]
  },
  {
   "cell_type": "code",
   "execution_count": 22,
   "metadata": {},
   "outputs": [
    {
     "data": {
      "text/html": [
       "<div>\n",
       "<style scoped>\n",
       "    .dataframe tbody tr th:only-of-type {\n",
       "        vertical-align: middle;\n",
       "    }\n",
       "\n",
       "    .dataframe tbody tr th {\n",
       "        vertical-align: top;\n",
       "    }\n",
       "\n",
       "    .dataframe thead th {\n",
       "        text-align: right;\n",
       "    }\n",
       "</style>\n",
       "<table border=\"1\" class=\"dataframe\">\n",
       "  <thead>\n",
       "    <tr style=\"text-align: right;\">\n",
       "      <th></th>\n",
       "      <th>Name</th>\n",
       "      <th>geo_pos</th>\n",
       "    </tr>\n",
       "  </thead>\n",
       "  <tbody>\n",
       "    <tr>\n",
       "      <th>0</th>\n",
       "      <td>Banashankari</td>\n",
       "      <td>(12.9152208, 77.573598)</td>\n",
       "    </tr>\n",
       "    <tr>\n",
       "      <th>1</th>\n",
       "      <td>Basavanagudi</td>\n",
       "      <td>(12.9417261, 77.5755021)</td>\n",
       "    </tr>\n",
       "    <tr>\n",
       "      <th>2</th>\n",
       "      <td>Mysore Road</td>\n",
       "      <td>(12.5523878, 76.9685867)</td>\n",
       "    </tr>\n",
       "    <tr>\n",
       "      <th>3</th>\n",
       "      <td>Jayanagar</td>\n",
       "      <td>(12.9292731, 77.5824229)</td>\n",
       "    </tr>\n",
       "    <tr>\n",
       "      <th>4</th>\n",
       "      <td>Kumaraswamy Layout</td>\n",
       "      <td>(12.9081487, 77.5553179)</td>\n",
       "    </tr>\n",
       "  </tbody>\n",
       "</table>\n",
       "</div>"
      ],
      "text/plain": [
       "                 Name                   geo_pos\n",
       "0        Banashankari   (12.9152208, 77.573598)\n",
       "1        Basavanagudi  (12.9417261, 77.5755021)\n",
       "2         Mysore Road  (12.5523878, 76.9685867)\n",
       "3           Jayanagar  (12.9292731, 77.5824229)\n",
       "4  Kumaraswamy Layout  (12.9081487, 77.5553179)"
      ]
     },
     "execution_count": 22,
     "metadata": {},
     "output_type": "execute_result"
    }
   ],
   "source": [
    "locations[\"Name\"]=locations['Name'].apply(lambda x :  x.replace(\"Bangalore\",\"\")[1:]); locations.head()"
   ]
  },
  {
   "cell_type": "code",
   "execution_count": 23,
   "metadata": {},
   "outputs": [
    {
     "data": {
      "text/html": [
       "<div>\n",
       "<style scoped>\n",
       "    .dataframe tbody tr th:only-of-type {\n",
       "        vertical-align: middle;\n",
       "    }\n",
       "\n",
       "    .dataframe tbody tr th {\n",
       "        vertical-align: top;\n",
       "    }\n",
       "\n",
       "    .dataframe thead th {\n",
       "        text-align: right;\n",
       "    }\n",
       "</style>\n",
       "<table border=\"1\" class=\"dataframe\">\n",
       "  <thead>\n",
       "    <tr style=\"text-align: right;\">\n",
       "      <th></th>\n",
       "      <th>Name</th>\n",
       "      <th>count</th>\n",
       "      <th>geo_pos</th>\n",
       "    </tr>\n",
       "  </thead>\n",
       "  <tbody>\n",
       "    <tr>\n",
       "      <th>0</th>\n",
       "      <td>BTM</td>\n",
       "      <td>5124</td>\n",
       "      <td>(12.911275849999999, 77.60456543431182)</td>\n",
       "    </tr>\n",
       "    <tr>\n",
       "      <th>1</th>\n",
       "      <td>HSR</td>\n",
       "      <td>2523</td>\n",
       "      <td>(12.9116225, 77.6388622)</td>\n",
       "    </tr>\n",
       "    <tr>\n",
       "      <th>2</th>\n",
       "      <td>Koramangala 5th Block</td>\n",
       "      <td>2504</td>\n",
       "      <td>(13.2923988, 77.7519261)</td>\n",
       "    </tr>\n",
       "    <tr>\n",
       "      <th>3</th>\n",
       "      <td>JP Nagar</td>\n",
       "      <td>2235</td>\n",
       "      <td>(12.9072515, 77.5782713)</td>\n",
       "    </tr>\n",
       "    <tr>\n",
       "      <th>4</th>\n",
       "      <td>Whitefield</td>\n",
       "      <td>2144</td>\n",
       "      <td>(12.9696365, 77.7497448)</td>\n",
       "    </tr>\n",
       "  </tbody>\n",
       "</table>\n",
       "</div>"
      ],
      "text/plain": [
       "                    Name  count                                  geo_pos\n",
       "0                    BTM   5124  (12.911275849999999, 77.60456543431182)\n",
       "1                    HSR   2523                 (12.9116225, 77.6388622)\n",
       "2  Koramangala 5th Block   2504                 (13.2923988, 77.7519261)\n",
       "3               JP Nagar   2235                 (12.9072515, 77.5782713)\n",
       "4             Whitefield   2144                 (12.9696365, 77.7497448)"
      ]
     },
     "execution_count": 23,
     "metadata": {},
     "output_type": "execute_result"
    }
   ],
   "source": [
    "rest_count= pd.DataFrame(df['location'].value_counts().reset_index())\n",
    "rest_count.columns= ['Name', 'count']\n",
    "rest_count=rest_count.merge(locations, on = \"Name\", how = \"left\" ).dropna()\n",
    "rest_count.head()"
   ]
  },
  {
   "cell_type": "code",
   "execution_count": 24,
   "metadata": {},
   "outputs": [],
   "source": [
    "import folium\n",
    "from folium.plugins import HeatMap"
   ]
  },
  {
   "cell_type": "code",
   "execution_count": 25,
   "metadata": {},
   "outputs": [],
   "source": [
    "maps = folium.Map(location= [12.986601, 77.603424], zoom_start= 12) \n",
    "folium.Marker(\n",
    "    location= [12.966601, 77.573424], \n",
    "    popup= 'The central location of bangalore city', \n",
    "    icon= folium.Icon(color='orange')\n",
    ").add_to(maps)\n",
    "\n",
    "lat , lon= zip(*np.array(rest_count['geo_pos']))\n",
    "rest_count['lat']= lat\n",
    "rest_count['lon']= lon"
   ]
  },
  {
   "cell_type": "code",
   "execution_count": 26,
   "metadata": {},
   "outputs": [
    {
     "data": {
      "text/html": [
       "<div style=\"width:100%;\"><div style=\"position:relative;width:100%;height:0;padding-bottom:60%;\"><span style=\"color:#565656\">Make this Notebook Trusted to load map: File -> Trust Notebook</span><iframe src=\"about:blank\" style=\"position:absolute;width:100%;height:100%;left:0;top:0;border:none !important;\" data-html=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 onload=\"this.contentDocument.open();this.contentDocument.write(atob(this.getAttribute('data-html')));this.contentDocument.close();\" allowfullscreen webkitallowfullscreen mozallowfullscreen></iframe></div></div>"
      ],
      "text/plain": [
       "<folium.folium.Map at 0x12cc970f588>"
      ]
     },
     "execution_count": 26,
     "metadata": {},
     "output_type": "execute_result"
    }
   ],
   "source": [
    "HeatMap(rest_count[['lat', 'lon', 'count']].values.tolist()).add_to(maps)\n",
    "maps.save('map1.html')\n",
    "maps"
   ]
  },
  {
   "attachments": {},
   "cell_type": "markdown",
   "metadata": {},
   "source": [
    "The above prediction can be seen on the map as well. \n",
    "There are large number of restaurants around Shivaginagar and K R market, which is usually crowded. \n"
   ]
  },
  {
   "cell_type": "markdown",
   "metadata": {},
   "source": [
    "#### Types of restaurants"
   ]
  },
  {
   "cell_type": "code",
   "execution_count": 27,
   "metadata": {},
   "outputs": [
    {
     "data": {
      "text/plain": [
       "array(['Casual Dining', 'Cafe, Casual Dining', 'Quick Bites',\n",
       "       'Casual Dining, Cafe', 'Cafe', 'Quick Bites, Cafe',\n",
       "       'Cafe, Quick Bites', 'Delivery', 'Mess', 'Dessert Parlor',\n",
       "       'Bakery, Dessert Parlor', 'Pub', 'Bakery', 'Takeaway, Delivery',\n",
       "       'Fine Dining', 'Beverage Shop', 'Sweet Shop', 'Bar',\n",
       "       'Beverage Shop, Quick Bites', 'Confectionery',\n",
       "       'Quick Bites, Beverage Shop', 'Dessert Parlor, Sweet Shop',\n",
       "       'Bakery, Quick Bites', 'Sweet Shop, Quick Bites', 'Kiosk',\n",
       "       'Food Truck', 'Quick Bites, Dessert Parlor',\n",
       "       'Beverage Shop, Dessert Parlor', 'Takeaway', 'Pub, Casual Dining',\n",
       "       'Casual Dining, Bar', 'Dessert Parlor, Beverage Shop',\n",
       "       'Quick Bites, Bakery', 'Dessert Parlor, Quick Bites',\n",
       "       'Microbrewery, Casual Dining', 'Lounge', 'Bar, Casual Dining',\n",
       "       'Food Court', 'Cafe, Bakery', nan, 'Dhaba',\n",
       "       'Quick Bites, Sweet Shop', 'Microbrewery',\n",
       "       'Food Court, Quick Bites', 'Pub, Bar', 'Casual Dining, Pub',\n",
       "       'Lounge, Bar', 'Food Court, Dessert Parlor',\n",
       "       'Casual Dining, Sweet Shop', 'Food Court, Casual Dining',\n",
       "       'Casual Dining, Microbrewery', 'Sweet Shop, Dessert Parlor',\n",
       "       'Bakery, Beverage Shop', 'Lounge, Casual Dining',\n",
       "       'Cafe, Food Court', 'Beverage Shop, Cafe', 'Cafe, Dessert Parlor',\n",
       "       'Dessert Parlor, Cafe', 'Dessert Parlor, Bakery',\n",
       "       'Microbrewery, Pub', 'Bakery, Food Court', 'Club',\n",
       "       'Quick Bites, Food Court', 'Bakery, Cafe', 'Bar, Cafe',\n",
       "       'Pub, Cafe', 'Casual Dining, Irani Cafee', 'Fine Dining, Lounge',\n",
       "       'Bar, Quick Bites', 'Bakery, Kiosk', 'Pub, Microbrewery',\n",
       "       'Microbrewery, Lounge', 'Fine Dining, Microbrewery',\n",
       "       'Fine Dining, Bar', 'Mess, Quick Bites', 'Dessert Parlor, Kiosk',\n",
       "       'Bhojanalya', 'Casual Dining, Quick Bites', 'Pop Up', 'Cafe, Bar',\n",
       "       'Casual Dining, Lounge', 'Bakery, Sweet Shop', 'Microbrewery, Bar',\n",
       "       'Cafe, Lounge', 'Bar, Pub', 'Lounge, Cafe', 'Club, Casual Dining',\n",
       "       'Quick Bites, Mess', 'Quick Bites, Meat Shop',\n",
       "       'Quick Bites, Kiosk', 'Lounge, Microbrewery',\n",
       "       'Food Court, Beverage Shop', 'Dessert Parlor, Food Court',\n",
       "       'Bar, Lounge'], dtype=object)"
      ]
     },
     "execution_count": 27,
     "metadata": {},
     "output_type": "execute_result"
    }
   ],
   "source": [
    "df['rest_type'].unique()"
   ]
  },
  {
   "cell_type": "code",
   "execution_count": 28,
   "metadata": {},
   "outputs": [
    {
     "data": {
      "image/png": "[encoded data removed]",
      "text/plain": [
       "<Figure size 1080x720 with 1 Axes>"
      ]
     },
     "metadata": {
      "needs_background": "light"
     },
     "output_type": "display_data"
    }
   ],
   "source": [
    "# There are many missing values. Checking the top 25 restaurant types\n",
    "rest_type1=df['rest_type'].value_counts()[:25]\n",
    "\n",
    "rest_type1.plot(kind='barh', figsize=(15, 10), title='Number of restaurants in Bangalore by their type [top 25]', )\n",
    "plt.show()"
   ]
  },
  {
   "cell_type": "markdown",
   "metadata": {},
   "source": [
    "The most preferred choice of restaurant is  Quick bites and Casual dining followed by Café. \n"
   ]
  },
  {
   "cell_type": "code",
   "execution_count": 29,
   "metadata": {
    "scrolled": true
   },
   "outputs": [
    {
     "data": {
      "text/plain": [
       "array(['Buffet', 'Cafes', 'Delivery', 'Desserts', 'Dine-out',\n",
       "       'Drinks & nightlife', 'Pubs and bars'], dtype=object)"
      ]
     },
     "execution_count": 29,
     "metadata": {},
     "output_type": "execute_result"
    }
   ],
   "source": [
    "df['listed_type'].unique()"
   ]
  },
  {
   "attachments": {},
   "cell_type": "markdown",
   "metadata": {},
   "source": [
    "North Indian Restaurants are large in number. Many outlet serve both north and south Indian dishes. \n"
   ]
  },
  {
   "cell_type": "code",
   "execution_count": 30,
   "metadata": {},
   "outputs": [
    {
     "data": {
      "text/plain": [
       "Delivery              25942\n",
       "Dine-out              17779\n",
       "Desserts               3593\n",
       "Cafes                  1723\n",
       "Drinks & nightlife     1101\n",
       "Buffet                  882\n",
       "Pubs and bars           697\n",
       "Name: listed_type, dtype: int64"
      ]
     },
     "execution_count": 30,
     "metadata": {},
     "output_type": "execute_result"
    }
   ],
   "source": [
    "rest_type2=df['listed_type'].value_counts()\n",
    "rest_type2"
   ]
  },
  {
   "cell_type": "markdown",
   "metadata": {},
   "source": [
    "#### Restaurant Ownerships"
   ]
  },
  {
   "cell_type": "code",
   "execution_count": 31,
   "metadata": {},
   "outputs": [
    {
     "data": {
      "image/png": "[encoded data removed]",
      "text/plain": [
       "<Figure size 1080x1080 with 1 Axes>"
      ]
     },
     "metadata": {
      "needs_background": "light"
     },
     "output_type": "display_data"
    }
   ],
   "source": [
    "# There are many missing values. Checking the top 50 localities\n",
    "rest_grp=df['name'].value_counts()[:25]\n",
    "rest_grp.plot(kind='barh', figsize=(15, 15), title='Number of restaurants in Bangalore by Ownerships [Top 25]', ); plt.show()"
   ]
  },
  {
   "cell_type": "markdown",
   "metadata": {},
   "source": [
    "Café coffee day has the largest number of outlets. However the numbers of other groups are quite comparable. "
   ]
  },
  {
   "cell_type": "markdown",
   "metadata": {},
   "source": [
    "#### Crusines"
   ]
  },
  {
   "cell_type": "code",
   "execution_count": 32,
   "metadata": {},
   "outputs": [
    {
     "data": {
      "image/png": "[encoded data removed]",
      "text/plain": [
       "<Figure size 720x720 with 1 Axes>"
      ]
     },
     "metadata": {
      "needs_background": "light"
     },
     "output_type": "display_data"
    }
   ],
   "source": [
    "cuisines=df['cuisines'].value_counts()[:20]\n",
    "cuisines.plot(kind='barh', figsize=(10,10), title='Number of restaurants by cuisines type [top 20]', ); plt.show()"
   ]
  },
  {
   "cell_type": "code",
   "execution_count": 33,
   "metadata": {},
   "outputs": [
    {
     "data": {
      "image/png": "[encoded data removed]",
      "text/plain": [
       "<Figure size 360x360 with 1 Axes>"
      ]
     },
     "metadata": {
      "needs_background": "light"
     },
     "output_type": "display_data"
    }
   ],
   "source": [
    "dish_liked=df['dish_liked'].value_counts()[:10]\n",
    "dish_liked.plot(kind='barh', figsize=(5,5), title='Number of restaurants by cuisines type [top 10]', ); plt.show()"
   ]
  },
  {
   "attachments": {},
   "cell_type": "markdown",
   "metadata": {},
   "source": [
    "The most favoured recipe in Bangalore is Biriyani . Other favourite dishes are Paratha and Masala dosa"
   ]
  },
  {
   "cell_type": "markdown",
   "metadata": {},
   "source": [
    "#### Cost "
   ]
  },
  {
   "cell_type": "code",
   "execution_count": 34,
   "metadata": {},
   "outputs": [
    {
     "data": {
      "text/plain": [
       "count    51371.000000\n",
       "mean       360.726620\n",
       "std        229.913692\n",
       "min          1.000000\n",
       "25%        200.000000\n",
       "50%        350.000000\n",
       "75%        500.000000\n",
       "max        950.000000\n",
       "Name: average_cost, dtype: float64"
      ]
     },
     "execution_count": 34,
     "metadata": {},
     "output_type": "execute_result"
    }
   ],
   "source": [
    "df.average_cost.describe()"
   ]
  },
  {
   "cell_type": "code",
   "execution_count": 35,
   "metadata": {
    "scrolled": false
   },
   "outputs": [
    {
     "data": {
      "text/plain": [
       "<matplotlib.axes._subplots.AxesSubplot at 0x12cc9a74148>"
      ]
     },
     "execution_count": 35,
     "metadata": {},
     "output_type": "execute_result"
    },
    {
     "data": {
      "image/png": "[encoded data removed]",
      "text/plain": [
       "<Figure size 432x288 with 1 Axes>"
      ]
     },
     "metadata": {
      "needs_background": "light"
     },
     "output_type": "display_data"
    }
   ],
   "source": [
    "df.average_cost.plot(kind='box', vert=0)"
   ]
  },
  {
   "attachments": {},
   "cell_type": "markdown",
   "metadata": {},
   "source": [
    "The cost aspects are shown in the box plot. The average cost for two is around 360 rs while max is 950 rs. "
   ]
  },
  {
   "cell_type": "markdown",
   "metadata": {},
   "source": [
    "#### Rating of restaurants"
   ]
  },
  {
   "cell_type": "code",
   "execution_count": 36,
   "metadata": {},
   "outputs": [
    {
     "data": {
      "text/html": [
       "<div>\n",
       "<style scoped>\n",
       "    .dataframe tbody tr th:only-of-type {\n",
       "        vertical-align: middle;\n",
       "    }\n",
       "\n",
       "    .dataframe tbody tr th {\n",
       "        vertical-align: top;\n",
       "    }\n",
       "\n",
       "    .dataframe thead th {\n",
       "        text-align: right;\n",
       "    }\n",
       "</style>\n",
       "<table border=\"1\" class=\"dataframe\">\n",
       "  <thead>\n",
       "    <tr style=\"text-align: right;\">\n",
       "      <th></th>\n",
       "      <th>rate</th>\n",
       "      <th>votes</th>\n",
       "      <th>average_cost</th>\n",
       "    </tr>\n",
       "  </thead>\n",
       "  <tbody>\n",
       "    <tr>\n",
       "      <th>rate</th>\n",
       "      <td>1.000000</td>\n",
       "      <td>0.434040</td>\n",
       "      <td>-0.115575</td>\n",
       "    </tr>\n",
       "    <tr>\n",
       "      <th>votes</th>\n",
       "      <td>0.434040</td>\n",
       "      <td>1.000000</td>\n",
       "      <td>-0.094479</td>\n",
       "    </tr>\n",
       "    <tr>\n",
       "      <th>average_cost</th>\n",
       "      <td>-0.115575</td>\n",
       "      <td>-0.094479</td>\n",
       "      <td>1.000000</td>\n",
       "    </tr>\n",
       "  </tbody>\n",
       "</table>\n",
       "</div>"
      ],
      "text/plain": [
       "                  rate     votes  average_cost\n",
       "rate          1.000000  0.434040     -0.115575\n",
       "votes         0.434040  1.000000     -0.094479\n",
       "average_cost -0.115575 -0.094479      1.000000"
      ]
     },
     "execution_count": 36,
     "metadata": {},
     "output_type": "execute_result"
    }
   ],
   "source": [
    "df.corr()"
   ]
  },
  {
   "cell_type": "code",
   "execution_count": 37,
   "metadata": {},
   "outputs": [
    {
     "data": {
      "text/plain": [
       "<matplotlib.axes._subplots.AxesSubplot at 0x12cc9ae9a88>"
      ]
     },
     "execution_count": 37,
     "metadata": {},
     "output_type": "execute_result"
    },
    {
     "data": {
      "image/png": "[encoded data removed]",
      "text/plain": [
       "<Figure size 720x360 with 1 Axes>"
      ]
     },
     "metadata": {
      "needs_background": "light"
     },
     "output_type": "display_data"
    }
   ],
   "source": [
    "df.plot(kind='scatter', x='rate', y='votes', figsize=(10,5))"
   ]
  },
  {
   "cell_type": "code",
   "execution_count": 38,
   "metadata": {},
   "outputs": [
    {
     "data": {
      "text/plain": [
       "count    41665.000000\n",
       "mean         3.700449\n",
       "std          0.440513\n",
       "min          1.800000\n",
       "25%          3.400000\n",
       "50%          3.700000\n",
       "75%          4.000000\n",
       "max          4.900000\n",
       "Name: rate, dtype: float64"
      ]
     },
     "execution_count": 38,
     "metadata": {},
     "output_type": "execute_result"
    }
   ],
   "source": [
    "df.rate.describe()"
   ]
  },
  {
   "cell_type": "code",
   "execution_count": 39,
   "metadata": {},
   "outputs": [
    {
     "data": {
      "text/plain": [
       "<matplotlib.axes._subplots.AxesSubplot at 0x12cc999cf48>"
      ]
     },
     "execution_count": 39,
     "metadata": {},
     "output_type": "execute_result"
    },
    {
     "data": {
      "image/png": "[encoded data removed]",
      "text/plain": [
       "<Figure size 432x288 with 1 Axes>"
      ]
     },
     "metadata": {
      "needs_background": "light"
     },
     "output_type": "display_data"
    }
   ],
   "source": [
    "df.rate.plot(kind='box', vert=0)"
   ]
  },
  {
   "cell_type": "markdown",
   "metadata": {},
   "source": [
    "From scatter plot we can say that there are very few votes for rating below 3.5. The average rate being 3.7. The maximum rating is 4.9"
   ]
  },
  {
   "cell_type": "markdown",
   "metadata": {},
   "source": [
    "### Detailed Analysis"
   ]
  },
  {
   "cell_type": "markdown",
   "metadata": {},
   "source": [
    "First let us visualise the south indian restaurant locations on map"
   ]
  },
  {
   "cell_type": "code",
   "execution_count": 40,
   "metadata": {},
   "outputs": [
    {
     "data": {
      "text/html": [
       "<div>\n",
       "<style scoped>\n",
       "    .dataframe tbody tr th:only-of-type {\n",
       "        vertical-align: middle;\n",
       "    }\n",
       "\n",
       "    .dataframe tbody tr th {\n",
       "        vertical-align: top;\n",
       "    }\n",
       "\n",
       "    .dataframe thead th {\n",
       "        text-align: right;\n",
       "    }\n",
       "</style>\n",
       "<table border=\"1\" class=\"dataframe\">\n",
       "  <thead>\n",
       "    <tr style=\"text-align: right;\">\n",
       "      <th></th>\n",
       "      <th>Name</th>\n",
       "      <th>count</th>\n",
       "      <th>geo_pos</th>\n",
       "      <th>lat</th>\n",
       "      <th>lon</th>\n",
       "    </tr>\n",
       "  </thead>\n",
       "  <tbody>\n",
       "    <tr>\n",
       "      <th>0</th>\n",
       "      <td>BTM</td>\n",
       "      <td>113</td>\n",
       "      <td>(12.911275849999999, 77.60456543431182)</td>\n",
       "      <td>12.911276</td>\n",
       "      <td>77.604565</td>\n",
       "    </tr>\n",
       "    <tr>\n",
       "      <th>1</th>\n",
       "      <td>Banashankari</td>\n",
       "      <td>86</td>\n",
       "      <td>(12.9152208, 77.573598)</td>\n",
       "      <td>12.915221</td>\n",
       "      <td>77.573598</td>\n",
       "    </tr>\n",
       "    <tr>\n",
       "      <th>2</th>\n",
       "      <td>Banaswadi</td>\n",
       "      <td>37</td>\n",
       "      <td>(13.0141618, 77.6518539)</td>\n",
       "      <td>13.014162</td>\n",
       "      <td>77.651854</td>\n",
       "    </tr>\n",
       "    <tr>\n",
       "      <th>3</th>\n",
       "      <td>Bannerghatta Road</td>\n",
       "      <td>48</td>\n",
       "      <td>(12.8264929, 77.5864733)</td>\n",
       "      <td>12.826493</td>\n",
       "      <td>77.586473</td>\n",
       "    </tr>\n",
       "    <tr>\n",
       "      <th>4</th>\n",
       "      <td>Basavanagudi</td>\n",
       "      <td>89</td>\n",
       "      <td>(12.9417261, 77.5755021)</td>\n",
       "      <td>12.941726</td>\n",
       "      <td>77.575502</td>\n",
       "    </tr>\n",
       "  </tbody>\n",
       "</table>\n",
       "</div>"
      ],
      "text/plain": [
       "                Name  count                                  geo_pos  \\\n",
       "0                BTM    113  (12.911275849999999, 77.60456543431182)   \n",
       "1       Banashankari     86                  (12.9152208, 77.573598)   \n",
       "2          Banaswadi     37                 (13.0141618, 77.6518539)   \n",
       "3  Bannerghatta Road     48                 (12.8264929, 77.5864733)   \n",
       "4       Basavanagudi     89                 (12.9417261, 77.5755021)   \n",
       "\n",
       "         lat        lon  \n",
       "0  12.911276  77.604565  \n",
       "1  12.915221  77.573598  \n",
       "2  13.014162  77.651854  \n",
       "3  12.826493  77.586473  \n",
       "4  12.941726  77.575502  "
      ]
     },
     "execution_count": 40,
     "metadata": {},
     "output_type": "execute_result"
    }
   ],
   "source": [
    "# south restaurants\n",
    "south_data=  pd.DataFrame(df[df['cuisines']== 'South Indian'].groupby(['location'], as_index= False)['url'].agg('count'))\n",
    "south_data.columns= ['Name', 'count']\n",
    "south_data = south_data.merge(locations, on = 'Name', how = 'left' ).dropna()\n",
    "lat , lon= zip(*np.array(south_data['geo_pos']))\n",
    "south_data['lat'] = lat\n",
    "south_data['lon'] = lon\n",
    "south_data.head()"
   ]
  },
  {
   "cell_type": "code",
   "execution_count": 41,
   "metadata": {},
   "outputs": [
    {
     "data": {
      "text/html": [
       "<div style=\"width:100%;\"><div style=\"position:relative;width:100%;height:0;padding-bottom:60%;\"><span style=\"color:#565656\">Make this Notebook Trusted to load map: File -> Trust Notebook</span><iframe src=\"about:blank\" style=\"position:absolute;width:100%;height:100%;left:0;top:0;border:none !important;\" data-html=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 onload=\"this.contentDocument.open();this.contentDocument.write(atob(this.getAttribute('data-html')));this.contentDocument.close();\" allowfullscreen webkitallowfullscreen mozallowfullscreen></iframe></div></div>"
      ],
      "text/plain": [
       "<folium.folium.Map at 0x12cc970f588>"
      ]
     },
     "execution_count": 41,
     "metadata": {},
     "output_type": "execute_result"
    }
   ],
   "source": [
    "maps2 = folium.Map(location= [12.986601, 77.603424], zoom_start= 12) \n",
    "folium.Marker(\n",
    "    location= [12.966601, 77.573424], \n",
    "    popup= 'The central location of bangalore city', \n",
    "    icon= folium.Icon(color='orange')\n",
    ").add_to(maps2)\n",
    "\n",
    "HeatMap(south_data[['lat', 'lon', 'count']].values.tolist()).add_to(maps2)\n",
    "maps"
   ]
  },
  {
   "cell_type": "code",
   "execution_count": 42,
   "metadata": {},
   "outputs": [
    {
     "data": {
      "text/html": [
       "<div>\n",
       "<style scoped>\n",
       "    .dataframe tbody tr th:only-of-type {\n",
       "        vertical-align: middle;\n",
       "    }\n",
       "\n",
       "    .dataframe tbody tr th {\n",
       "        vertical-align: top;\n",
       "    }\n",
       "\n",
       "    .dataframe thead th {\n",
       "        text-align: right;\n",
       "    }\n",
       "</style>\n",
       "<table border=\"1\" class=\"dataframe\">\n",
       "  <thead>\n",
       "    <tr style=\"text-align: right;\">\n",
       "      <th></th>\n",
       "      <th>url</th>\n",
       "      <th>name</th>\n",
       "      <th>online_order</th>\n",
       "      <th>book_table</th>\n",
       "      <th>rate</th>\n",
       "      <th>votes</th>\n",
       "      <th>location</th>\n",
       "      <th>rest_type</th>\n",
       "      <th>dish_liked</th>\n",
       "      <th>cuisines</th>\n",
       "      <th>average_cost</th>\n",
       "      <th>reviews_list</th>\n",
       "      <th>menu_item</th>\n",
       "      <th>listed_type</th>\n",
       "      <th>listed_city</th>\n",
       "    </tr>\n",
       "  </thead>\n",
       "  <tbody>\n",
       "    <tr>\n",
       "      <th>0</th>\n",
       "      <td>https://www.zomato.com/bangalore/maruthi-davan...</td>\n",
       "      <td>Maruthi Davangere Benne Dosa</td>\n",
       "      <td>Yes</td>\n",
       "      <td>No</td>\n",
       "      <td>4.0</td>\n",
       "      <td>17</td>\n",
       "      <td>Banashankari</td>\n",
       "      <td>Quick Bites</td>\n",
       "      <td>NaN</td>\n",
       "      <td>South Indian</td>\n",
       "      <td>150.0</td>\n",
       "      <td>[('Rated 5.0', \"RATED\\n  This restaurant serve...</td>\n",
       "      <td>['Benne Dosa', 'Benne Masala Dosa', 'Benne Kal...</td>\n",
       "      <td>Delivery</td>\n",
       "      <td>Banashankari</td>\n",
       "    </tr>\n",
       "    <tr>\n",
       "      <th>1</th>\n",
       "      <td>https://www.zomato.com/bangalore/havyaka-mess-...</td>\n",
       "      <td>Havyaka Mess</td>\n",
       "      <td>No</td>\n",
       "      <td>No</td>\n",
       "      <td>3.9</td>\n",
       "      <td>28</td>\n",
       "      <td>Banashankari</td>\n",
       "      <td>Mess</td>\n",
       "      <td>NaN</td>\n",
       "      <td>South Indian</td>\n",
       "      <td>300.0</td>\n",
       "      <td>[('Rated 4.0', 'RATED\\n  Food is good.very hom...</td>\n",
       "      <td>[]</td>\n",
       "      <td>Delivery</td>\n",
       "      <td>Banashankari</td>\n",
       "    </tr>\n",
       "  </tbody>\n",
       "</table>\n",
       "</div>"
      ],
      "text/plain": [
       "                                                 url  \\\n",
       "0  https://www.zomato.com/bangalore/maruthi-davan...   \n",
       "1  https://www.zomato.com/bangalore/havyaka-mess-...   \n",
       "\n",
       "                           name online_order book_table  rate  votes  \\\n",
       "0  Maruthi Davangere Benne Dosa          Yes         No   4.0     17   \n",
       "1                  Havyaka Mess           No         No   3.9     28   \n",
       "\n",
       "       location    rest_type dish_liked      cuisines  average_cost  \\\n",
       "0  Banashankari  Quick Bites        NaN  South Indian         150.0   \n",
       "1  Banashankari         Mess        NaN  South Indian         300.0   \n",
       "\n",
       "                                        reviews_list  \\\n",
       "0  [('Rated 5.0', \"RATED\\n  This restaurant serve...   \n",
       "1  [('Rated 4.0', 'RATED\\n  Food is good.very hom...   \n",
       "\n",
       "                                           menu_item listed_type   listed_city  \n",
       "0  ['Benne Dosa', 'Benne Masala Dosa', 'Benne Kal...    Delivery  Banashankari  \n",
       "1                                                 []    Delivery  Banashankari  "
      ]
     },
     "execution_count": 42,
     "metadata": {},
     "output_type": "execute_result"
    }
   ],
   "source": [
    "### Let us analyse the south indian restaurants\n",
    "# First lets filter data\n",
    "sdf=df.copy()\n",
    "indexNames = sdf[sdf['cuisines'] != 'South Indian'].index\n",
    "sdf.drop(indexNames , inplace=True)\n",
    "sdf.reset_index(drop=True, inplace=True)\n",
    "sdf.head(2)"
   ]
  },
  {
   "cell_type": "code",
   "execution_count": 43,
   "metadata": {},
   "outputs": [
    {
     "data": {
      "text/html": [
       "<div>\n",
       "<style scoped>\n",
       "    .dataframe tbody tr th:only-of-type {\n",
       "        vertical-align: middle;\n",
       "    }\n",
       "\n",
       "    .dataframe tbody tr th {\n",
       "        vertical-align: top;\n",
       "    }\n",
       "\n",
       "    .dataframe thead th {\n",
       "        text-align: right;\n",
       "    }\n",
       "</style>\n",
       "<table border=\"1\" class=\"dataframe\">\n",
       "  <thead>\n",
       "    <tr style=\"text-align: right;\">\n",
       "      <th></th>\n",
       "      <th>url</th>\n",
       "      <th>name</th>\n",
       "      <th>online_order</th>\n",
       "      <th>book_table</th>\n",
       "      <th>rate</th>\n",
       "      <th>votes</th>\n",
       "      <th>location</th>\n",
       "      <th>rest_type</th>\n",
       "      <th>dish_liked</th>\n",
       "      <th>cuisines</th>\n",
       "      <th>average_cost</th>\n",
       "      <th>reviews_list</th>\n",
       "      <th>menu_item</th>\n",
       "      <th>listed_type</th>\n",
       "      <th>listed_city</th>\n",
       "    </tr>\n",
       "  </thead>\n",
       "  <tbody>\n",
       "    <tr>\n",
       "      <th>0</th>\n",
       "      <td>https://www.zomato.com/bangalore/maruthi-davan...</td>\n",
       "      <td>Maruthi Davangere Benne Dosa</td>\n",
       "      <td>Yes</td>\n",
       "      <td>No</td>\n",
       "      <td>4.0</td>\n",
       "      <td>17</td>\n",
       "      <td>Banashankari</td>\n",
       "      <td>Quick Bites</td>\n",
       "      <td>NaN</td>\n",
       "      <td>South Indian</td>\n",
       "      <td>150.0</td>\n",
       "      <td>[('Rated 5.0', \"RATED\\n  This restaurant serve...</td>\n",
       "      <td>['Benne Dosa', 'Benne Masala Dosa', 'Benne Kal...</td>\n",
       "      <td>Delivery</td>\n",
       "      <td>Banashankari</td>\n",
       "    </tr>\n",
       "    <tr>\n",
       "      <th>1</th>\n",
       "      <td>https://www.zomato.com/bangalore/havyaka-mess-...</td>\n",
       "      <td>Havyaka Mess</td>\n",
       "      <td>No</td>\n",
       "      <td>No</td>\n",
       "      <td>3.9</td>\n",
       "      <td>28</td>\n",
       "      <td>Banashankari</td>\n",
       "      <td>Mess</td>\n",
       "      <td>NaN</td>\n",
       "      <td>South Indian</td>\n",
       "      <td>300.0</td>\n",
       "      <td>[('Rated 4.0', 'RATED\\n  Food is good.very hom...</td>\n",
       "      <td>[]</td>\n",
       "      <td>Delivery</td>\n",
       "      <td>Banashankari</td>\n",
       "    </tr>\n",
       "    <tr>\n",
       "      <th>2</th>\n",
       "      <td>https://www.zomato.com/bangalore/namma-brahmin...</td>\n",
       "      <td>Namma Brahmin's Idli</td>\n",
       "      <td>Yes</td>\n",
       "      <td>No</td>\n",
       "      <td>3.6</td>\n",
       "      <td>34</td>\n",
       "      <td>Jayanagar</td>\n",
       "      <td>Quick Bites</td>\n",
       "      <td>NaN</td>\n",
       "      <td>South Indian</td>\n",
       "      <td>100.0</td>\n",
       "      <td>[('Rated 4.0', 'RATED\\n  Quite a cosy &amp; small ...</td>\n",
       "      <td>['Tatte Idli', 'Butter Idli', 'Butter Pudi Idl...</td>\n",
       "      <td>Delivery</td>\n",
       "      <td>Banashankari</td>\n",
       "    </tr>\n",
       "    <tr>\n",
       "      <th>3</th>\n",
       "      <td>https://www.zomato.com/bangalore/sri-guru-kott...</td>\n",
       "      <td>Sri Guru Kottureshwara Davangere Benne Dosa</td>\n",
       "      <td>Yes</td>\n",
       "      <td>No</td>\n",
       "      <td>4.1</td>\n",
       "      <td>558</td>\n",
       "      <td>Basavanagudi</td>\n",
       "      <td>Quick Bites</td>\n",
       "      <td>Benne Dosa, Mirchi Bajji, Filter Coffee, Poha,...</td>\n",
       "      <td>South Indian</td>\n",
       "      <td>150.0</td>\n",
       "      <td>[('Rated 4.0', 'RATED\\n  My go-to benne dosa p...</td>\n",
       "      <td>['Benne Dose', 'Benne Kali Dose', 'Open Dose',...</td>\n",
       "      <td>Delivery</td>\n",
       "      <td>Banashankari</td>\n",
       "    </tr>\n",
       "    <tr>\n",
       "      <th>4</th>\n",
       "      <td>https://www.zomato.com/bangalore/sunsadm-banas...</td>\n",
       "      <td>Sunsadm</td>\n",
       "      <td>No</td>\n",
       "      <td>No</td>\n",
       "      <td>NaN</td>\n",
       "      <td>0</td>\n",
       "      <td>Banashankari</td>\n",
       "      <td>Takeaway, Delivery</td>\n",
       "      <td>NaN</td>\n",
       "      <td>South Indian</td>\n",
       "      <td>400.0</td>\n",
       "      <td>[]</td>\n",
       "      <td>[]</td>\n",
       "      <td>Delivery</td>\n",
       "      <td>Banashankari</td>\n",
       "    </tr>\n",
       "    <tr>\n",
       "      <th>...</th>\n",
       "      <td>...</td>\n",
       "      <td>...</td>\n",
       "      <td>...</td>\n",
       "      <td>...</td>\n",
       "      <td>...</td>\n",
       "      <td>...</td>\n",
       "      <td>...</td>\n",
       "      <td>...</td>\n",
       "      <td>...</td>\n",
       "      <td>...</td>\n",
       "      <td>...</td>\n",
       "      <td>...</td>\n",
       "      <td>...</td>\n",
       "      <td>...</td>\n",
       "      <td>...</td>\n",
       "    </tr>\n",
       "    <tr>\n",
       "      <th>1823</th>\n",
       "      <td>https://www.zomato.com/bangalore/dharani-andhr...</td>\n",
       "      <td>Dharani Andhra Style Hotel</td>\n",
       "      <td>No</td>\n",
       "      <td>No</td>\n",
       "      <td>NaN</td>\n",
       "      <td>0</td>\n",
       "      <td>Whitefield</td>\n",
       "      <td>Quick Bites</td>\n",
       "      <td>NaN</td>\n",
       "      <td>South Indian</td>\n",
       "      <td>200.0</td>\n",
       "      <td>[]</td>\n",
       "      <td>[]</td>\n",
       "      <td>Dine-out</td>\n",
       "      <td>Whitefield</td>\n",
       "    </tr>\n",
       "    <tr>\n",
       "      <th>1824</th>\n",
       "      <td>https://www.zomato.com/bangalore/the-south-whi...</td>\n",
       "      <td>The South</td>\n",
       "      <td>No</td>\n",
       "      <td>No</td>\n",
       "      <td>3.7</td>\n",
       "      <td>21</td>\n",
       "      <td>Whitefield</td>\n",
       "      <td>Quick Bites</td>\n",
       "      <td>NaN</td>\n",
       "      <td>South Indian</td>\n",
       "      <td>200.0</td>\n",
       "      <td>[('Rated 5.0', \"RATED\\n  I also always wanted ...</td>\n",
       "      <td>[]</td>\n",
       "      <td>Dine-out</td>\n",
       "      <td>Whitefield</td>\n",
       "    </tr>\n",
       "    <tr>\n",
       "      <th>1825</th>\n",
       "      <td>https://www.zomato.com/bangalore/the-andhra-bh...</td>\n",
       "      <td>The Andhra Bhojanam</td>\n",
       "      <td>Yes</td>\n",
       "      <td>No</td>\n",
       "      <td>3.3</td>\n",
       "      <td>7</td>\n",
       "      <td>ITPL Main Road, Whitefield</td>\n",
       "      <td>Bhojanalya</td>\n",
       "      <td>NaN</td>\n",
       "      <td>South Indian</td>\n",
       "      <td>300.0</td>\n",
       "      <td>[('Rated 2.0', \"RATED\\n  Visited only once whe...</td>\n",
       "      <td>['Chicken Pepper Dry', 'Poori [3 Pieces]', 'Ch...</td>\n",
       "      <td>Dine-out</td>\n",
       "      <td>Whitefield</td>\n",
       "    </tr>\n",
       "    <tr>\n",
       "      <th>1826</th>\n",
       "      <td>https://www.zomato.com/bangalore/slv-grand-itp...</td>\n",
       "      <td>SLV Grand</td>\n",
       "      <td>Yes</td>\n",
       "      <td>No</td>\n",
       "      <td>3.3</td>\n",
       "      <td>66</td>\n",
       "      <td>ITPL Main Road, Whitefield</td>\n",
       "      <td>Quick Bites</td>\n",
       "      <td>NaN</td>\n",
       "      <td>South Indian</td>\n",
       "      <td>300.0</td>\n",
       "      <td>[('Rated 1.0', \"RATED\\n  Very low quality food...</td>\n",
       "      <td>['Jeera Rice', 'Veg Pulao', 'Veg Biryani', 'Hy...</td>\n",
       "      <td>Dine-out</td>\n",
       "      <td>Whitefield</td>\n",
       "    </tr>\n",
       "    <tr>\n",
       "      <th>1827</th>\n",
       "      <td>https://www.zomato.com/bangalore/basaveshwara-...</td>\n",
       "      <td>Basaveshwara Khanavali</td>\n",
       "      <td>No</td>\n",
       "      <td>No</td>\n",
       "      <td>NaN</td>\n",
       "      <td>0</td>\n",
       "      <td>Brookefield</td>\n",
       "      <td>Quick Bites</td>\n",
       "      <td>NaN</td>\n",
       "      <td>South Indian</td>\n",
       "      <td>200.0</td>\n",
       "      <td>[]</td>\n",
       "      <td>[]</td>\n",
       "      <td>Dine-out</td>\n",
       "      <td>Whitefield</td>\n",
       "    </tr>\n",
       "  </tbody>\n",
       "</table>\n",
       "<p>1828 rows × 15 columns</p>\n",
       "</div>"
      ],
      "text/plain": [
       "                                                    url  \\\n",
       "0     https://www.zomato.com/bangalore/maruthi-davan...   \n",
       "1     https://www.zomato.com/bangalore/havyaka-mess-...   \n",
       "2     https://www.zomato.com/bangalore/namma-brahmin...   \n",
       "3     https://www.zomato.com/bangalore/sri-guru-kott...   \n",
       "4     https://www.zomato.com/bangalore/sunsadm-banas...   \n",
       "...                                                 ...   \n",
       "1823  https://www.zomato.com/bangalore/dharani-andhr...   \n",
       "1824  https://www.zomato.com/bangalore/the-south-whi...   \n",
       "1825  https://www.zomato.com/bangalore/the-andhra-bh...   \n",
       "1826  https://www.zomato.com/bangalore/slv-grand-itp...   \n",
       "1827  https://www.zomato.com/bangalore/basaveshwara-...   \n",
       "\n",
       "                                             name online_order book_table  \\\n",
       "0                    Maruthi Davangere Benne Dosa          Yes         No   \n",
       "1                                    Havyaka Mess           No         No   \n",
       "2                            Namma Brahmin's Idli          Yes         No   \n",
       "3     Sri Guru Kottureshwara Davangere Benne Dosa          Yes         No   \n",
       "4                                         Sunsadm           No         No   \n",
       "...                                           ...          ...        ...   \n",
       "1823                   Dharani Andhra Style Hotel           No         No   \n",
       "1824                                    The South           No         No   \n",
       "1825                          The Andhra Bhojanam          Yes         No   \n",
       "1826                                    SLV Grand          Yes         No   \n",
       "1827                       Basaveshwara Khanavali           No         No   \n",
       "\n",
       "      rate  votes                    location           rest_type  \\\n",
       "0      4.0     17                Banashankari         Quick Bites   \n",
       "1      3.9     28                Banashankari                Mess   \n",
       "2      3.6     34                   Jayanagar         Quick Bites   \n",
       "3      4.1    558                Basavanagudi         Quick Bites   \n",
       "4      NaN      0                Banashankari  Takeaway, Delivery   \n",
       "...    ...    ...                         ...                 ...   \n",
       "1823   NaN      0                  Whitefield         Quick Bites   \n",
       "1824   3.7     21                  Whitefield         Quick Bites   \n",
       "1825   3.3      7  ITPL Main Road, Whitefield          Bhojanalya   \n",
       "1826   3.3     66  ITPL Main Road, Whitefield         Quick Bites   \n",
       "1827   NaN      0                 Brookefield         Quick Bites   \n",
       "\n",
       "                                             dish_liked      cuisines  \\\n",
       "0                                                   NaN  South Indian   \n",
       "1                                                   NaN  South Indian   \n",
       "2                                                   NaN  South Indian   \n",
       "3     Benne Dosa, Mirchi Bajji, Filter Coffee, Poha,...  South Indian   \n",
       "4                                                   NaN  South Indian   \n",
       "...                                                 ...           ...   \n",
       "1823                                                NaN  South Indian   \n",
       "1824                                                NaN  South Indian   \n",
       "1825                                                NaN  South Indian   \n",
       "1826                                                NaN  South Indian   \n",
       "1827                                                NaN  South Indian   \n",
       "\n",
       "      average_cost                                       reviews_list  \\\n",
       "0            150.0  [('Rated 5.0', \"RATED\\n  This restaurant serve...   \n",
       "1            300.0  [('Rated 4.0', 'RATED\\n  Food is good.very hom...   \n",
       "2            100.0  [('Rated 4.0', 'RATED\\n  Quite a cosy & small ...   \n",
       "3            150.0  [('Rated 4.0', 'RATED\\n  My go-to benne dosa p...   \n",
       "4            400.0                                                 []   \n",
       "...            ...                                                ...   \n",
       "1823         200.0                                                 []   \n",
       "1824         200.0  [('Rated 5.0', \"RATED\\n  I also always wanted ...   \n",
       "1825         300.0  [('Rated 2.0', \"RATED\\n  Visited only once whe...   \n",
       "1826         300.0  [('Rated 1.0', \"RATED\\n  Very low quality food...   \n",
       "1827         200.0                                                 []   \n",
       "\n",
       "                                              menu_item listed_type  \\\n",
       "0     ['Benne Dosa', 'Benne Masala Dosa', 'Benne Kal...    Delivery   \n",
       "1                                                    []    Delivery   \n",
       "2     ['Tatte Idli', 'Butter Idli', 'Butter Pudi Idl...    Delivery   \n",
       "3     ['Benne Dose', 'Benne Kali Dose', 'Open Dose',...    Delivery   \n",
       "4                                                    []    Delivery   \n",
       "...                                                 ...         ...   \n",
       "1823                                                 []    Dine-out   \n",
       "1824                                                 []    Dine-out   \n",
       "1825  ['Chicken Pepper Dry', 'Poori [3 Pieces]', 'Ch...    Dine-out   \n",
       "1826  ['Jeera Rice', 'Veg Pulao', 'Veg Biryani', 'Hy...    Dine-out   \n",
       "1827                                                 []    Dine-out   \n",
       "\n",
       "       listed_city  \n",
       "0     Banashankari  \n",
       "1     Banashankari  \n",
       "2     Banashankari  \n",
       "3     Banashankari  \n",
       "4     Banashankari  \n",
       "...            ...  \n",
       "1823    Whitefield  \n",
       "1824    Whitefield  \n",
       "1825    Whitefield  \n",
       "1826    Whitefield  \n",
       "1827    Whitefield  \n",
       "\n",
       "[1828 rows x 15 columns]"
      ]
     },
     "execution_count": 43,
     "metadata": {},
     "output_type": "execute_result"
    }
   ],
   "source": [
    "sdf.drop_duplicates()"
   ]
  },
  {
   "cell_type": "code",
   "execution_count": 44,
   "metadata": {
    "scrolled": true
   },
   "outputs": [],
   "source": [
    "sdf.drop(columns=['url','listed_city','cuisines','listed_type'], inplace=True) "
   ]
  },
  {
   "cell_type": "code",
   "execution_count": 45,
   "metadata": {},
   "outputs": [
    {
     "data": {
      "text/html": [
       "<div>\n",
       "<style scoped>\n",
       "    .dataframe tbody tr th:only-of-type {\n",
       "        vertical-align: middle;\n",
       "    }\n",
       "\n",
       "    .dataframe tbody tr th {\n",
       "        vertical-align: top;\n",
       "    }\n",
       "\n",
       "    .dataframe thead th {\n",
       "        text-align: right;\n",
       "    }\n",
       "</style>\n",
       "<table border=\"1\" class=\"dataframe\">\n",
       "  <thead>\n",
       "    <tr style=\"text-align: right;\">\n",
       "      <th></th>\n",
       "      <th>name</th>\n",
       "      <th>online_order</th>\n",
       "      <th>book_table</th>\n",
       "      <th>rate</th>\n",
       "      <th>votes</th>\n",
       "      <th>location</th>\n",
       "      <th>rest_type</th>\n",
       "      <th>dish_liked</th>\n",
       "      <th>average_cost</th>\n",
       "      <th>reviews_list</th>\n",
       "      <th>menu_item</th>\n",
       "    </tr>\n",
       "  </thead>\n",
       "  <tbody>\n",
       "    <tr>\n",
       "      <th>0</th>\n",
       "      <td>Maruthi Davangere Benne Dosa</td>\n",
       "      <td>Yes</td>\n",
       "      <td>No</td>\n",
       "      <td>4.0</td>\n",
       "      <td>17</td>\n",
       "      <td>Banashankari</td>\n",
       "      <td>Quick Bites</td>\n",
       "      <td>NaN</td>\n",
       "      <td>150.0</td>\n",
       "      <td>[('Rated 5.0', \"RATED\\n  This restaurant serve...</td>\n",
       "      <td>['Benne Dosa', 'Benne Masala Dosa', 'Benne Kal...</td>\n",
       "    </tr>\n",
       "    <tr>\n",
       "      <th>1</th>\n",
       "      <td>Havyaka Mess</td>\n",
       "      <td>No</td>\n",
       "      <td>No</td>\n",
       "      <td>3.9</td>\n",
       "      <td>28</td>\n",
       "      <td>Banashankari</td>\n",
       "      <td>Mess</td>\n",
       "      <td>NaN</td>\n",
       "      <td>300.0</td>\n",
       "      <td>[('Rated 4.0', 'RATED\\n  Food is good.very hom...</td>\n",
       "      <td>[]</td>\n",
       "    </tr>\n",
       "  </tbody>\n",
       "</table>\n",
       "</div>"
      ],
      "text/plain": [
       "                           name online_order book_table  rate  votes  \\\n",
       "0  Maruthi Davangere Benne Dosa          Yes         No   4.0     17   \n",
       "1                  Havyaka Mess           No         No   3.9     28   \n",
       "\n",
       "       location    rest_type dish_liked  average_cost  \\\n",
       "0  Banashankari  Quick Bites        NaN         150.0   \n",
       "1  Banashankari         Mess        NaN         300.0   \n",
       "\n",
       "                                        reviews_list  \\\n",
       "0  [('Rated 5.0', \"RATED\\n  This restaurant serve...   \n",
       "1  [('Rated 4.0', 'RATED\\n  Food is good.very hom...   \n",
       "\n",
       "                                           menu_item  \n",
       "0  ['Benne Dosa', 'Benne Masala Dosa', 'Benne Kal...  \n",
       "1                                                 []  "
      ]
     },
     "execution_count": 45,
     "metadata": {},
     "output_type": "execute_result"
    }
   ],
   "source": [
    "sdf.head(2)"
   ]
  },
  {
   "cell_type": "code",
   "execution_count": 46,
   "metadata": {},
   "outputs": [],
   "source": [
    "sdf_type=sdf['rest_type'].value_counts()[:5]"
   ]
  },
  {
   "cell_type": "code",
   "execution_count": 47,
   "metadata": {
    "scrolled": false
   },
   "outputs": [
    {
     "data": {
      "image/png": "[encoded data removed]",
      "text/plain": [
       "<Figure size 432x432 with 1 Axes>"
      ]
     },
     "metadata": {},
     "output_type": "display_data"
    }
   ],
   "source": [
    "sdf.name.value_counts()[:10].plot(kind='pie', \n",
    "                                  figsize=(6,6), \n",
    "                                  title='Most number of South Indian Restaurant Groups', \n",
    "                                  startangle=0, \n",
    "                                  label='',\n",
    "                                  autopct='%1.1f%%')\n",
    "plt.show()"
   ]
  },
  {
   "attachments": {},
   "cell_type": "markdown",
   "metadata": {},
   "source": [
    "Vijayalakshmi, chetty’s coffee and Yum Yum South has large number of outlets"
   ]
  },
  {
   "cell_type": "code",
   "execution_count": 48,
   "metadata": {},
   "outputs": [
    {
     "data": {
      "image/png": "[encoded data removed]",
      "text/plain": [
       "<Figure size 432x432 with 1 Axes>"
      ]
     },
     "metadata": {},
     "output_type": "display_data"
    }
   ],
   "source": [
    "sdf_type.plot(kind='pie', \n",
    "              figsize=(6,6), \n",
    "              title='Number of South Indian Restaurant by type', \n",
    "              startangle=0, \n",
    "              autopct='%1.1f%%')\n",
    "plt.ylabel(' '); plt.show()"
   ]
  },
  {
   "attachments": {},
   "cell_type": "markdown",
   "metadata": {},
   "source": [
    "Almost all the south Indian restaurants are quick bite type. Very few are casual dining. One can see scope for Casual dining restaurants. "
   ]
  },
  {
   "cell_type": "code",
   "execution_count": 49,
   "metadata": {},
   "outputs": [
    {
     "data": {
      "text/plain": [
       "No     1815\n",
       "Yes      13\n",
       "Name: book_table, dtype: int64"
      ]
     },
     "execution_count": 49,
     "metadata": {},
     "output_type": "execute_result"
    }
   ],
   "source": [
    "sdf['book_table'].value_counts()"
   ]
  },
  {
   "cell_type": "code",
   "execution_count": 50,
   "metadata": {},
   "outputs": [
    {
     "data": {
      "text/plain": [
       "No     1096\n",
       "Yes     732\n",
       "Name: online_order, dtype: int64"
      ]
     },
     "execution_count": 50,
     "metadata": {},
     "output_type": "execute_result"
    }
   ],
   "source": [
    "sdf['online_order'].value_counts()"
   ]
  },
  {
   "cell_type": "code",
   "execution_count": 51,
   "metadata": {},
   "outputs": [
    {
     "data": {
      "image/png": "[encoded data removed]",
      "text/plain": [
       "<Figure size 1080x1080 with 2 Axes>"
      ]
     },
     "metadata": {},
     "output_type": "display_data"
    }
   ],
   "source": [
    "figure, axes = plt.subplots(1,2, sharey=True)\n",
    "sdf['location'].value_counts(ascending=False)[:10].plot(ax=axes[0],\n",
    "    kind='pie', \n",
    "    figsize=(15,15), \n",
    "    title='Top 10 Locations with maximum number of south indian restaurants', \n",
    "    startangle=0, \n",
    "    label='',\n",
    "    autopct='%1.1f%%')\n",
    "\n",
    "sdf['location'].value_counts(ascending=True)[:10].plot(ax=axes[1],\n",
    "    kind='pie', \n",
    "    figsize=(15,15), \n",
    "    title='Top 10 Locations with minimum number of south indian restaurants', \n",
    "    startangle=0, \n",
    "    autopct='%1.1f%%' )\n",
    "plt.show()"
   ]
  },
  {
   "cell_type": "code",
   "execution_count": 52,
   "metadata": {},
   "outputs": [
    {
     "data": {
      "text/html": [
       "<div>\n",
       "<style scoped>\n",
       "    .dataframe tbody tr th:only-of-type {\n",
       "        vertical-align: middle;\n",
       "    }\n",
       "\n",
       "    .dataframe tbody tr th {\n",
       "        vertical-align: top;\n",
       "    }\n",
       "\n",
       "    .dataframe thead th {\n",
       "        text-align: right;\n",
       "    }\n",
       "</style>\n",
       "<table border=\"1\" class=\"dataframe\">\n",
       "  <thead>\n",
       "    <tr style=\"text-align: right;\">\n",
       "      <th></th>\n",
       "      <th>name</th>\n",
       "      <th>rate</th>\n",
       "      <th>location</th>\n",
       "    </tr>\n",
       "  </thead>\n",
       "  <tbody>\n",
       "    <tr>\n",
       "      <th>41</th>\n",
       "      <td>Taaza Thindi</td>\n",
       "      <td>4.7</td>\n",
       "      <td>Banashankari</td>\n",
       "    </tr>\n",
       "    <tr>\n",
       "      <th>178</th>\n",
       "      <td>Brahmin's Coffee Bar</td>\n",
       "      <td>4.8</td>\n",
       "      <td>Basavanagudi</td>\n",
       "    </tr>\n",
       "    <tr>\n",
       "      <th>365</th>\n",
       "      <td>Oota Bangalore</td>\n",
       "      <td>4.6</td>\n",
       "      <td>Whitefield</td>\n",
       "    </tr>\n",
       "    <tr>\n",
       "      <th>1306</th>\n",
       "      <td>CTR</td>\n",
       "      <td>4.7</td>\n",
       "      <td>Malleshwaram</td>\n",
       "    </tr>\n",
       "    <tr>\n",
       "      <th>1341</th>\n",
       "      <td>CTR</td>\n",
       "      <td>4.7</td>\n",
       "      <td>Malleshwaram</td>\n",
       "    </tr>\n",
       "    <tr>\n",
       "      <th>1588</th>\n",
       "      <td>CTR</td>\n",
       "      <td>4.8</td>\n",
       "      <td>Malleshwaram</td>\n",
       "    </tr>\n",
       "    <tr>\n",
       "      <th>1641</th>\n",
       "      <td>CTR</td>\n",
       "      <td>4.8</td>\n",
       "      <td>Malleshwaram</td>\n",
       "    </tr>\n",
       "    <tr>\n",
       "      <th>1799</th>\n",
       "      <td>Oota Bangalore</td>\n",
       "      <td>4.6</td>\n",
       "      <td>Whitefield</td>\n",
       "    </tr>\n",
       "  </tbody>\n",
       "</table>\n",
       "</div>"
      ],
      "text/plain": [
       "                      name  rate      location\n",
       "41            Taaza Thindi   4.7  Banashankari\n",
       "178   Brahmin's Coffee Bar   4.8  Basavanagudi\n",
       "365         Oota Bangalore   4.6    Whitefield\n",
       "1306                   CTR   4.7  Malleshwaram\n",
       "1341                   CTR   4.7  Malleshwaram\n",
       "1588                   CTR   4.8  Malleshwaram\n",
       "1641                   CTR   4.8  Malleshwaram\n",
       "1799        Oota Bangalore   4.6    Whitefield"
      ]
     },
     "execution_count": 52,
     "metadata": {},
     "output_type": "execute_result"
    }
   ],
   "source": [
    "#south indian restaurants with rating > 4.5\n",
    "sdf.loc[sdf['rate'] > 4.5, ['name', 'rate', 'location']]"
   ]
  },
  {
   "cell_type": "markdown",
   "metadata": {},
   "source": [
    "Taaza Thindi, Bramhin’s coffee bar, Oota Bangalore and CTR are very good choice in Bangalore. `"
   ]
  },
  {
   "cell_type": "code",
   "execution_count": 53,
   "metadata": {},
   "outputs": [
    {
     "data": {
      "text/plain": [
       "3.629092382495952"
      ]
     },
     "execution_count": 53,
     "metadata": {},
     "output_type": "execute_result"
    }
   ],
   "source": [
    "sdf.rate.mean()"
   ]
  },
  {
   "cell_type": "code",
   "execution_count": 54,
   "metadata": {},
   "outputs": [
    {
     "data": {
      "image/png": "[encoded data removed]",
      "text/plain": [
       "<Figure size 432x288 with 1 Axes>"
      ]
     },
     "metadata": {
      "needs_background": "light"
     },
     "output_type": "display_data"
    }
   ],
   "source": [
    "sdf.rate.plot(kind='box', vert=0,)\n",
    "plt.show()"
   ]
  },
  {
   "cell_type": "markdown",
   "metadata": {},
   "source": [
    "## Results and Discussion <a name=\"results\"></a>"
   ]
  },
  {
   "cell_type": "markdown",
   "metadata": {},
   "source": [
    "From the analysis we observe the following\n",
    "* BTM layout has maximum number of restaurants. There are more than 2000 restaurants in Whitefield already\n",
    "* Quick bites and Casual dining are the  is the most common type of restaurant types in Bangalore. Noticeably there is large number of delivery only services without dining options. \n",
    "* Café coffee day has the maximum number of outlets in Bangalore followed by Onesta and Just bake which are bakeries. Empire Group is the maximum number of casual dining restaurants.\n",
    "* Biriyani is the most popular dish in Bangalore. Other popular menu items are masala dosa and paratha. \n",
    "* Most restaurants allow online delivery but few allow online table  booking. This can indicate restaurants are small business. "
   ]
  },
  {
   "cell_type": "markdown",
   "metadata": {},
   "source": [
    "## Conclusion <a name=\"conclusion\"></a>"
   ]
  },
  {
   "cell_type": "markdown",
   "metadata": {},
   "source": [
    "* The South Indian restaurant has quite demand since there are not many outlets in several locations when compared to other types. However most of the restaurants serve both south and north Indian style of food. One should be careful about this choice to serve only south Indian dishes.\n",
    "* From the analysis we can conclude that\n",
    "    * Scope for south Indian restaurant with casual dining is large since most of them doest have seating. \n",
    "    * Most common dishes should be masala dosa, paratha and Biriyani. \n",
    "    * Most preferred location is around Jayanagar, JP nagar and Basavanagudi. A sepearte survey may be needed to access if there is demand for south Indian dishes in other locations. \n",
    "    * The competition should be kept in mind: The top restaurants are Bramhin’s coffee, CTR,  Oota and Taaza Thindi. \n",
    "    * Online ordering will add value to the restaurant. \n"
   ]
  }
 ],
 "metadata": {
  "kernelspec": {
   "display_name": "Python 3",
   "language": "python",
   "name": "python3"
  },
  "language_info": {
   "codemirror_mode": {
    "name": "ipython",
    "version": 3
   },
   "file_extension": ".py",
   "mimetype": "text/x-python",
   "name": "python",
   "nbconvert_exporter": "python",
   "pygments_lexer": "ipython3",
   "version": "3.7.6"
  }
 },
 "nbformat": 4,
 "nbformat_minor": 4
}
